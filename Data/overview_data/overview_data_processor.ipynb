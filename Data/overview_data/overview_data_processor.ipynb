{
 "cells": [
  {
   "cell_type": "markdown",
   "metadata": {},
   "source": [
    "# Visualization for Overview\n",
    "\n",
    "## Attributes to Measure Efficiency of the Visualization\n",
    "\n",
    "Let's use Radar Chart with 4~6 axis\n",
    "\n",
    "4~6 attributes \n",
    "1. time\n",
    "2. # of fixations\n",
    "3. avg fix duration\n",
    "4. scan path\n",
    "5. area of convex hull\n",
    "6. avg pupil dilation\n",
    "7. # of clicks\n",
    "\n",
    "*all in average(mean) for the group of participants*\n"
   ]
  },
  {
   "cell_type": "markdown",
   "metadata": {},
   "source": [
    "### Data needed for each participant\n",
    "\n",
    "- [x] time\n",
    "  - time on task\n",
    "    - from `Others/participant_data.js`\n",
    "\n",
    "\n",
    "- [ ] # of fixations\n",
    "  - last fixation's serial number\n",
    "- [ ] avg fix duration\n",
    "  - calculate average durations\n",
    "    - fixation data from `Raw_Data/p1/p1.treeFXD.txt, Raw_Data/p1/p1.graphFXD.txt, Raw_Data/p2/p2.treeFXD.txt, Raw_Data/p2/p2.graphFXD.txt, ...`\n",
    "  \n",
    "- [ ] scan path\n",
    "  - calculate saccadic length between each fixations\n",
    "  - add all saccadic length up\n",
    "- [ ] avg saccadic length\n",
    "  - get avg of all saccadic length\n",
    "      - fixation data from `Raw_Data/... p1/p1.treeFXD.txt, p1/p1.graphFXD.txt, p2/p2.treeFXD.txt, p2/p2.graphFXD.txt, ...`\n",
    "\n",
    "- [ ] avg pupil dilation\n",
    "  - [ ] avg baseline (b/c of different base pupil sizes depend on ppl's eyes and conditions)\n",
    "    - baseline data from `Raw_Data/p1/p1GZD.txt, Raw_Data/p2/p2GZD.txt, ...`\n",
    "  - [ ] avg left, right pupil size throughout the task\n",
    "    - gaze data from `filtered_data/... p1/p1treeGZD.js, p1/p1graphGZD.js, p2/p1treeGZD.js, ...`\n",
    "  \n",
    "- [ ] area of convex hull\n",
    "  - calculate it using [scipy.spatial.ConvexHull](https://docs.scipy.org/doc/scipy/reference/generated/scipy.spatial.ConvexHull.html)\n",
    "    - fixation from `Raw_Data/... p1/p1.treeFXD.txt, p1/p1.graphFXD.txt, p2/p2.treeFXD.txt, p2/p2.graphFXD.txt, ...`\n",
    "  \n",
    "- [ ] # of clicks\n",
    "  - count the total 'LMouseButton' events\n",
    "    - event data from `Raw_Data/... p1/p1.treeEVD.txt, p1/p1.graphEVD.txt, p2/p2.treeEVD.txt, p2/p2.graphEVD.txt, ...`\n",
    "    "
   ]
  },
  {
   "cell_type": "markdown",
   "metadata": {},
   "source": [
    "### Final output planned\n",
    "\n",
    "1. overview_participant.csv\n",
    "```\n",
    "pid,ont_type,vis_type,session_type,time,success,totalfix,avg_fix_duration,scanpath,avg_saccadic_length,avg_pupil_dilation,convexhull_area,totalclick\n",
    "p1,1,1,1,26,0.608695652,2647,140,10000,20,1.2,1000,606\n",
    "p1,2,2,4,38,0.52173913,2422,200,20000,10,2.0,1200,984\n",
    "p2,1,2,3,19,0.347826087,2581,,,,,,416\n",
    "p2,2,1,2,25,0.391304348,1166,,,,,,371\n",
    "p3,1,1,1,10,0.47826087,1564,,,,,,173\n",
    "p3,2,2,4,50,0.391304348,7967,,,,,,891\n",
    "p4,1,2,3,12,0.391304348,590,,,,,,235\n",
    "p4,2,1,2,9,0.52173913,605,,,,,,254\n",
    "```\n",
    "2. overview_combined.csv\n",
    "```\n",
    "sessionID,ont_type,vis_type,m_time,m_success,m_totalfix,m_avg_fix_duration,m_scanpath,m_avg_saccadic_length,m_avg_pupil_dilation,m_convexhull_area,m_totalclick\n",
    "1,general,tree,18,0.5,2000,,,,,,490\n",
    "2,expert,tree,17,0.45,850,,,,,,310\n",
    "3,general,graph,15.5,0.37,1500,,,,,,300\n",
    "4,expert,graph,44,0.45,5000,,,,,,930\n",
    "```\n",
    "\n",
    "#### Field info\n",
    "\n",
    "ontology type:\n",
    "1. general\n",
    "2. expert\n",
    "\n",
    "visualization type:\n",
    "1. tree\n",
    "2. graph\n",
    "\n",
    "session type:\n",
    "1. general - tree\n",
    "3. expert - tree\n",
    "2. general - graph\n",
    "4. expert - graph\n"
   ]
  },
  {
   "cell_type": "markdown",
   "metadata": {},
   "source": [
    "## Import libraries"
   ]
  },
  {
   "cell_type": "code",
   "execution_count": 4,
   "metadata": {},
   "outputs": [],
   "source": [
    "#importing necessary libraries\n",
    "import pandas as pd\n",
    "import numpy as np\n",
    "import matplotlib.pyplot as plt\n",
    "import seaborn as sns\n",
    "import os\n",
    "import sys\n",
    "import warnings\n",
    "warnings.filterwarnings(\"ignore\")"
   ]
  },
  {
   "cell_type": "markdown",
   "metadata": {},
   "source": [
    "## Loading the data"
   ]
  },
  {
   "cell_type": "code",
   "execution_count": 11,
   "metadata": {},
   "outputs": [
    {
     "data": {
      "text/html": [
       "<div>\n",
       "<style scoped>\n",
       "    .dataframe tbody tr th:only-of-type {\n",
       "        vertical-align: middle;\n",
       "    }\n",
       "\n",
       "    .dataframe tbody tr th {\n",
       "        vertical-align: top;\n",
       "    }\n",
       "\n",
       "    .dataframe thead th {\n",
       "        text-align: right;\n",
       "    }\n",
       "</style>\n",
       "<table border=\"1\" class=\"dataframe\">\n",
       "  <thead>\n",
       "    <tr style=\"text-align: right;\">\n",
       "      <th></th>\n",
       "      <th>Ontology</th>\n",
       "      <th>P_ID</th>\n",
       "      <th>Session_Type</th>\n",
       "      <th>Task_Success</th>\n",
       "      <th>Time_On_Task</th>\n",
       "      <th>Visualization</th>\n",
       "    </tr>\n",
       "  </thead>\n",
       "  <tbody>\n",
       "    <tr>\n",
       "      <th>0</th>\n",
       "      <td>1</td>\n",
       "      <td>p1</td>\n",
       "      <td>1</td>\n",
       "      <td>0.608696</td>\n",
       "      <td>26</td>\n",
       "      <td>1</td>\n",
       "    </tr>\n",
       "    <tr>\n",
       "      <th>1</th>\n",
       "      <td>2</td>\n",
       "      <td>p1</td>\n",
       "      <td>4</td>\n",
       "      <td>0.521739</td>\n",
       "      <td>38</td>\n",
       "      <td>2</td>\n",
       "    </tr>\n",
       "    <tr>\n",
       "      <th>2</th>\n",
       "      <td>1</td>\n",
       "      <td>p3</td>\n",
       "      <td>1</td>\n",
       "      <td>0.478261</td>\n",
       "      <td>10</td>\n",
       "      <td>1</td>\n",
       "    </tr>\n",
       "    <tr>\n",
       "      <th>3</th>\n",
       "      <td>2</td>\n",
       "      <td>p3</td>\n",
       "      <td>4</td>\n",
       "      <td>0.391304</td>\n",
       "      <td>50</td>\n",
       "      <td>2</td>\n",
       "    </tr>\n",
       "    <tr>\n",
       "      <th>4</th>\n",
       "      <td>1</td>\n",
       "      <td>p5</td>\n",
       "      <td>1</td>\n",
       "      <td>0.521739</td>\n",
       "      <td>22</td>\n",
       "      <td>1</td>\n",
       "    </tr>\n",
       "  </tbody>\n",
       "</table>\n",
       "</div>"
      ],
      "text/plain": [
       "   Ontology P_ID  Session_Type  Task_Success  Time_On_Task  Visualization\n",
       "0         1   p1             1      0.608696            26              1\n",
       "1         2   p1             4      0.521739            38              2\n",
       "2         1   p3             1      0.478261            10              1\n",
       "3         2   p3             4      0.391304            50              2\n",
       "4         1   p5             1      0.521739            22              1"
      ]
     },
     "execution_count": 11,
     "metadata": {},
     "output_type": "execute_result"
    }
   ],
   "source": [
    "session_df = pd.read_json ('tweakedData/participant_data.json')\n",
    "session_df.head(5)"
   ]
  },
  {
   "cell_type": "code",
   "execution_count": 20,
   "metadata": {
    "scrolled": false
   },
   "outputs": [
    {
     "data": {
      "image/png": "[encoded data removed]",
      "text/plain": [
       "<Figure size 432x288 with 1 Axes>"
      ]
     },
     "metadata": {
      "needs_background": "light"
     },
     "output_type": "display_data"
    }
   ],
   "source": [
    "session_df['Task_Success'].hist();"
   ]
  },
  {
   "cell_type": "code",
   "execution_count": null,
   "metadata": {},
   "outputs": [],
   "source": []
  }
 ],
 "metadata": {
  "kernelspec": {
   "display_name": "Python 3",
   "language": "python",
   "name": "python3"
  },
  "language_info": {
   "codemirror_mode": {
    "name": "ipython",
    "version": 3
   },
   "file_extension": ".py",
   "mimetype": "text/x-python",
   "name": "python",
   "nbconvert_exporter": "python",
   "pygments_lexer": "ipython3",
   "version": "3.7.3"
  }
 },
 "nbformat": 4,
 "nbformat_minor": 2
}
