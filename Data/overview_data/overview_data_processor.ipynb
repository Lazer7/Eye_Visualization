{
 "cells": [
  {
   "cell_type": "markdown",
   "metadata": {},
   "source": [
    "# Visualization for Overview\n",
    "\n",
    "## Attributes to Measure Efficiency of the Visualization\n",
    "\n",
    "Let's use Radar Chart with 4~6 axis\n",
    "\n",
    "4~6 attributes \n",
    "1. time\n",
    "2. # of fixations\n",
    "3. avg fix duration\n",
    "4. scan path\n",
    "5. area of convex hull\n",
    "6. avg pupil dilation\n",
    "7. # of clicks\n",
    "\n",
    "*all in average(mean) for the group of participants*\n"
   ]
  },
  {
   "cell_type": "markdown",
   "metadata": {},
   "source": [
    "### Data needed for each participant\n",
    "\n",
    "- [x] time\n",
    "  - time on task\n",
    "    - from `Others/participant_data.js`\n",
    "\n",
    "- [x] # of fixations\n",
    "  - last fixation's serial number\n",
    "- [x] avg fix duration\n",
    "  - calculate average durations\n",
    "    - fixation data from `Raw_Data/p1/p1.treeFXD.txt, Raw_Data/p1/p1.graphFXD.txt, Raw_Data/p2/p2.treeFXD.txt, Raw_Data/p2/p2.graphFXD.txt, ...`\n",
    "  \n",
    "- [x] scan path\n",
    "  - calculate saccadic length between each fixations\n",
    "  - add all saccadic length up\n",
    "- [x] avg saccadic length\n",
    "  - get avg of all saccadic length\n",
    "      - fixation data from `Raw_Data/... p1/p1.treeFXD.txt, p1/p1.graphFXD.txt, p2/p2.treeFXD.txt, p2/p2.graphFXD.txt, ...`\n",
    "\n",
    "- [ ] avg pupil dilation\n",
    "  - [ ] avg baseline (b/c of different base pupil sizes depend on ppl's eyes and conditions)\n",
    "    - baseline data from `Raw_Data/p1/p1GZD.txt, Raw_Data/p2/p2GZD.txt, ...`\n",
    "  - [ ] avg left, right pupil size throughout the task\n",
    "    - gaze data from `filtered_data/... p1/p1treeGZD.js, p1/p1graphGZD.js, p2/p1treeGZD.js, ...`\n",
    "  \n",
    "- [x] area of convex hull\n",
    "  - calculate it using [scipy.spatial.ConvexHull](https://docs.scipy.org/doc/scipy/reference/generated/scipy.spatial.ConvexHull.html)\n",
    "    - fixation from `Raw_Data/... p1/p1.treeFXD.txt, p1/p1.graphFXD.txt, p2/p2.treeFXD.txt, p2/p2.graphFXD.txt, ...`\n",
    "  \n",
    "- [ ] # of clicks\n",
    "  - count the total 'LMouseButton' events\n",
    "    - event data from `Raw_Data/... p1/p1.treeEVD.txt, p1/p1.graphEVD.txt, p2/p2.treeEVD.txt, p2/p2.graphEVD.txt, ...`\n",
    "    "
   ]
  },
  {
   "cell_type": "markdown",
   "metadata": {},
   "source": [
    "### Final output planned\n",
    "for example...\n",
    "1. overview_participant.csv\n",
    "```\n",
    "pid,ont_type,vis_type,session_type,time,success,totalfix,avg_fix_duration,scanpath,avg_saccadic_length,avg_pupil_dilation,convexhull_area,totalclick\n",
    "p1,1,1,1,26,0.608695652,2647,140,10000,20,1.2,1000,606\n",
    "p1,2,2,4,38,0.52173913,2422,200,20000,10,2.0,1200,984\n",
    "p2,1,2,3,19,0.347826087,2581,,,,,,416\n",
    "p2,2,1,2,25,0.391304348,1166,,,,,,371\n",
    "p3,1,1,1,10,0.47826087,1564,,,,,,173\n",
    "p3,2,2,4,50,0.391304348,7967,,,,,,891\n",
    "p4,1,2,3,12,0.391304348,590,,,,,,235\n",
    "p4,2,1,2,9,0.52173913,605,,,,,,254\n",
    "```\n",
    "2. overview_combined.csv\n",
    "```\n",
    "sessionID,ont_type,vis_type,m_time,m_success,m_totalfix,m_avg_fix_duration,m_scanpath,m_avg_saccadic_length,m_avg_pupil_dilation,m_convexhull_area,m_totalclick\n",
    "1,general,tree,18,0.5,2000,,,,,,490\n",
    "2,expert,tree,17,0.45,850,,,,,,310\n",
    "3,general,graph,15.5,0.37,1500,,,,,,300\n",
    "4,expert,graph,44,0.45,5000,,,,,,930\n",
    "```\n",
    "\n",
    "#### Field info\n",
    "\n",
    "ontology type:\n",
    "1. general\n",
    "2. expert\n",
    "\n",
    "visualization type:\n",
    "1. tree\n",
    "2. graph\n",
    "\n",
    "session type:\n",
    "1. general - tree\n",
    "3. expert - tree\n",
    "2. general - graph\n",
    "4. expert - graph\n"
   ]
  },
  {
   "cell_type": "markdown",
   "metadata": {},
   "source": [
    "## Import libraries"
   ]
  },
  {
   "cell_type": "code",
   "execution_count": 151,
   "metadata": {},
   "outputs": [],
   "source": [
    "#importing necessary libraries\n",
    "import pandas as pd\n",
    "import os\n",
    "import glob\n",
    "from math import sqrt\n",
    "from statistics import mean\n",
    "from scipy.spatial import ConvexHull\n",
    "\n",
    "import numpy as np\n",
    "import matplotlib.pyplot as plt\n",
    "import seaborn as sns\n",
    "\n",
    "import sys\n",
    "import warnings\n",
    "warnings.filterwarnings(\"ignore\")\n"
   ]
  },
  {
   "cell_type": "markdown",
   "metadata": {},
   "source": [
    "## Loading the data"
   ]
  },
  {
   "cell_type": "markdown",
   "metadata": {},
   "source": [
    "## 1. ont_type, vis_type, time, success"
   ]
  },
  {
   "cell_type": "code",
   "execution_count": 72,
   "metadata": {},
   "outputs": [
    {
     "data": {
      "text/html": [
       "<div>\n",
       "<style scoped>\n",
       "    .dataframe tbody tr th:only-of-type {\n",
       "        vertical-align: middle;\n",
       "    }\n",
       "\n",
       "    .dataframe tbody tr th {\n",
       "        vertical-align: top;\n",
       "    }\n",
       "\n",
       "    .dataframe thead th {\n",
       "        text-align: right;\n",
       "    }\n",
       "</style>\n",
       "<table border=\"1\" class=\"dataframe\">\n",
       "  <thead>\n",
       "    <tr style=\"text-align: right;\">\n",
       "      <th></th>\n",
       "      <th>P_ID</th>\n",
       "      <th>Ontology</th>\n",
       "      <th>Visualization</th>\n",
       "      <th>Session_Type</th>\n",
       "      <th>Time_On_Task</th>\n",
       "      <th>Task_Success</th>\n",
       "    </tr>\n",
       "  </thead>\n",
       "  <tbody>\n",
       "    <tr>\n",
       "      <th>0</th>\n",
       "      <td>p1</td>\n",
       "      <td>1</td>\n",
       "      <td>1</td>\n",
       "      <td>1</td>\n",
       "      <td>26</td>\n",
       "      <td>0.608696</td>\n",
       "    </tr>\n",
       "    <tr>\n",
       "      <th>1</th>\n",
       "      <td>p1</td>\n",
       "      <td>2</td>\n",
       "      <td>2</td>\n",
       "      <td>4</td>\n",
       "      <td>38</td>\n",
       "      <td>0.521739</td>\n",
       "    </tr>\n",
       "    <tr>\n",
       "      <th>2</th>\n",
       "      <td>p3</td>\n",
       "      <td>1</td>\n",
       "      <td>1</td>\n",
       "      <td>1</td>\n",
       "      <td>10</td>\n",
       "      <td>0.478261</td>\n",
       "    </tr>\n",
       "    <tr>\n",
       "      <th>3</th>\n",
       "      <td>p3</td>\n",
       "      <td>2</td>\n",
       "      <td>2</td>\n",
       "      <td>4</td>\n",
       "      <td>50</td>\n",
       "      <td>0.391304</td>\n",
       "    </tr>\n",
       "    <tr>\n",
       "      <th>4</th>\n",
       "      <td>p5</td>\n",
       "      <td>1</td>\n",
       "      <td>1</td>\n",
       "      <td>1</td>\n",
       "      <td>22</td>\n",
       "      <td>0.521739</td>\n",
       "    </tr>\n",
       "  </tbody>\n",
       "</table>\n",
       "</div>"
      ],
      "text/plain": [
       "  P_ID  Ontology  Visualization  Session_Type  Time_On_Task  Task_Success\n",
       "0   p1         1              1             1            26      0.608696\n",
       "1   p1         2              2             4            38      0.521739\n",
       "2   p3         1              1             1            10      0.478261\n",
       "3   p3         2              2             4            50      0.391304\n",
       "4   p5         1              1             1            22      0.521739"
      ]
     },
     "execution_count": 72,
     "metadata": {},
     "output_type": "execute_result"
    }
   ],
   "source": [
    "df = pd.read_json ('tweakedData/participant_data.json')\n",
    "# df.rename(columns = {'P_ID':'pid', \n",
    "#                      'Ontology': 'ont_type', \n",
    "#                      'Visualization': 'vis_type', \n",
    "#                      'Session_Type': 'session_type', \n",
    "#                      'Time_On_Task': 'time',\n",
    "#                      'Task_Success': 'success'}, inplace = True)\n",
    "df = df[['P_ID','Ontology','Visualization','Session_Type','Time_On_Task','Task_Success']]\n",
    "df.head(5)"
   ]
  },
  {
   "cell_type": "code",
   "execution_count": 73,
   "metadata": {
    "scrolled": false
   },
   "outputs": [
    {
     "data": {
      "image/png": "[encoded data removed]",
      "text/plain": [
       "<Figure size 432x288 with 2 Axes>"
      ]
     },
     "metadata": {
      "needs_background": "light"
     },
     "output_type": "display_data"
    }
   ],
   "source": [
    "df[['Task_Success','Time_On_Task']].hist();"
   ]
  },
  {
   "cell_type": "markdown",
   "metadata": {},
   "source": [
    "## 2. totalfix, avg_fixation_duration"
   ]
  },
  {
   "cell_type": "markdown",
   "metadata": {},
   "source": [
    "## 2-1. Work with multiple fixation files\n",
    "Combine all???"
   ]
  },
  {
   "cell_type": "code",
   "execution_count": 174,
   "metadata": {},
   "outputs": [],
   "source": [
    "dirPath = '../Raw_Data/'\n",
    "FXD_filenames = [i for i in glob.glob(dirPath+'p*/p*.*FXD.txt')]"
   ]
  },
  {
   "cell_type": "code",
   "execution_count": 165,
   "metadata": {},
   "outputs": [
    {
     "data": {
      "text/html": [
       "<div>\n",
       "<style scoped>\n",
       "    .dataframe tbody tr th:only-of-type {\n",
       "        vertical-align: middle;\n",
       "    }\n",
       "\n",
       "    .dataframe tbody tr th {\n",
       "        vertical-align: top;\n",
       "    }\n",
       "\n",
       "    .dataframe thead th {\n",
       "        text-align: right;\n",
       "    }\n",
       "</style>\n",
       "<table border=\"1\" class=\"dataframe\">\n",
       "  <thead>\n",
       "    <tr style=\"text-align: right;\">\n",
       "      <th></th>\n",
       "      <th>number</th>\n",
       "      <th>timestamp</th>\n",
       "      <th>duration</th>\n",
       "      <th>x</th>\n",
       "      <th>y</th>\n",
       "    </tr>\n",
       "  </thead>\n",
       "  <tbody>\n",
       "    <tr>\n",
       "      <th>0</th>\n",
       "      <td>1</td>\n",
       "      <td>475</td>\n",
       "      <td>100</td>\n",
       "      <td>632</td>\n",
       "      <td>405</td>\n",
       "    </tr>\n",
       "    <tr>\n",
       "      <th>1</th>\n",
       "      <td>2</td>\n",
       "      <td>4084</td>\n",
       "      <td>100</td>\n",
       "      <td>285</td>\n",
       "      <td>197</td>\n",
       "    </tr>\n",
       "    <tr>\n",
       "      <th>2</th>\n",
       "      <td>3</td>\n",
       "      <td>4622</td>\n",
       "      <td>339</td>\n",
       "      <td>72</td>\n",
       "      <td>208</td>\n",
       "    </tr>\n",
       "    <tr>\n",
       "      <th>3</th>\n",
       "      <td>4</td>\n",
       "      <td>7792</td>\n",
       "      <td>199</td>\n",
       "      <td>304</td>\n",
       "      <td>978</td>\n",
       "    </tr>\n",
       "    <tr>\n",
       "      <th>4</th>\n",
       "      <td>5</td>\n",
       "      <td>8490</td>\n",
       "      <td>120</td>\n",
       "      <td>389</td>\n",
       "      <td>915</td>\n",
       "    </tr>\n",
       "  </tbody>\n",
       "</table>\n",
       "</div>"
      ],
      "text/plain": [
       "   number  timestamp  duration    x    y\n",
       "0       1        475       100  632  405\n",
       "1       2       4084       100  285  197\n",
       "2       3       4622       339   72  208\n",
       "3       4       7792       199  304  978\n",
       "4       5       8490       120  389  915"
      ]
     },
     "execution_count": 165,
     "metadata": {},
     "output_type": "execute_result"
    }
   ],
   "source": [
    "fix_dfs = pd.concat([pd.read_csv(f, sep=\"\\t\", header=None) for f in FXD_filenames])\n",
    "fix_dfs.rename(columns = {0:'number', \n",
    "                     1: 'timestamp', \n",
    "                     2: 'duration', \n",
    "                     3: 'x', \n",
    "                     4: 'y'}, inplace = True)\n",
    "fix_dfs.head()\n"
   ]
  },
  {
   "cell_type": "code",
   "execution_count": 166,
   "metadata": {},
   "outputs": [
    {
     "name": "stdout",
     "output_type": "stream",
     "text": [
      "total data count : 193536\n"
     ]
    }
   ],
   "source": [
    "print ('total data count :', len(fix_dfs.index))"
   ]
  },
  {
   "cell_type": "markdown",
   "metadata": {},
   "source": [
    "But, I don't want to use this smashed one.  \n",
    "The attributes I want to use should be calculated for each fixation file.  \n",
    "Then..."
   ]
  },
  {
   "cell_type": "markdown",
   "metadata": {},
   "source": [
    "## 2-2. Let's test the process with one fixation file first"
   ]
  },
  {
   "cell_type": "code",
   "execution_count": 95,
   "metadata": {},
   "outputs": [
    {
     "data": {
      "text/html": [
       "<div>\n",
       "<style scoped>\n",
       "    .dataframe tbody tr th:only-of-type {\n",
       "        vertical-align: middle;\n",
       "    }\n",
       "\n",
       "    .dataframe tbody tr th {\n",
       "        vertical-align: top;\n",
       "    }\n",
       "\n",
       "    .dataframe thead th {\n",
       "        text-align: right;\n",
       "    }\n",
       "</style>\n",
       "<table border=\"1\" class=\"dataframe\">\n",
       "  <thead>\n",
       "    <tr style=\"text-align: right;\">\n",
       "      <th></th>\n",
       "      <th>number</th>\n",
       "      <th>timestamp</th>\n",
       "      <th>duration</th>\n",
       "      <th>x</th>\n",
       "      <th>y</th>\n",
       "    </tr>\n",
       "  </thead>\n",
       "  <tbody>\n",
       "    <tr>\n",
       "      <th>0</th>\n",
       "      <td>1</td>\n",
       "      <td>2027</td>\n",
       "      <td>100</td>\n",
       "      <td>1005</td>\n",
       "      <td>60</td>\n",
       "    </tr>\n",
       "    <tr>\n",
       "      <th>1</th>\n",
       "      <td>2</td>\n",
       "      <td>7968</td>\n",
       "      <td>319</td>\n",
       "      <td>78</td>\n",
       "      <td>237</td>\n",
       "    </tr>\n",
       "    <tr>\n",
       "      <th>2</th>\n",
       "      <td>3</td>\n",
       "      <td>8526</td>\n",
       "      <td>100</td>\n",
       "      <td>246</td>\n",
       "      <td>207</td>\n",
       "    </tr>\n",
       "    <tr>\n",
       "      <th>3</th>\n",
       "      <td>4</td>\n",
       "      <td>9105</td>\n",
       "      <td>140</td>\n",
       "      <td>298</td>\n",
       "      <td>198</td>\n",
       "    </tr>\n",
       "    <tr>\n",
       "      <th>4</th>\n",
       "      <td>5</td>\n",
       "      <td>9962</td>\n",
       "      <td>140</td>\n",
       "      <td>909</td>\n",
       "      <td>1002</td>\n",
       "    </tr>\n",
       "  </tbody>\n",
       "</table>\n",
       "</div>"
      ],
      "text/plain": [
       "   number  timestamp  duration     x     y\n",
       "0       1       2027       100  1005    60\n",
       "1       2       7968       319    78   237\n",
       "2       3       8526       100   246   207\n",
       "3       4       9105       140   298   198\n",
       "4       5       9962       140   909  1002"
      ]
     },
     "execution_count": 95,
     "metadata": {},
     "output_type": "execute_result"
    }
   ],
   "source": [
    "# testing with one fixation file\n",
    "p1_treeFXD_df = pd.read_csv(dirPath+\"p1/p1.treeFXD.txt\", sep = \"\\t\", header=None)\n",
    "\n",
    "p1_treeFXD_df.rename(columns = {0:'number', \n",
    "                     1: 'timestamp', \n",
    "                     2: 'duration', \n",
    "                     3: 'x', \n",
    "                     4: 'y'}, inplace = True)\n",
    "p1_treeFXD_df.head()\n",
    "\n",
    "# p1_treeFXD_df.set_index('number', inplace = True)  # set 'number'column as a key\n",
    "# p1_treeFXD_df[['duration']].head()  # can get dataframe only with the selected column"
   ]
  },
  {
   "cell_type": "code",
   "execution_count": 97,
   "metadata": {},
   "outputs": [
    {
     "data": {
      "text/html": [
       "<div>\n",
       "<style scoped>\n",
       "    .dataframe tbody tr th:only-of-type {\n",
       "        vertical-align: middle;\n",
       "    }\n",
       "\n",
       "    .dataframe tbody tr th {\n",
       "        vertical-align: top;\n",
       "    }\n",
       "\n",
       "    .dataframe thead th {\n",
       "        text-align: right;\n",
       "    }\n",
       "</style>\n",
       "<table border=\"1\" class=\"dataframe\">\n",
       "  <thead>\n",
       "    <tr style=\"text-align: right;\">\n",
       "      <th></th>\n",
       "      <th>number</th>\n",
       "      <th>timestamp</th>\n",
       "      <th>duration</th>\n",
       "      <th>x</th>\n",
       "      <th>y</th>\n",
       "      <th>saccadic_length</th>\n",
       "    </tr>\n",
       "  </thead>\n",
       "  <tbody>\n",
       "    <tr>\n",
       "      <th>0</th>\n",
       "      <td>1</td>\n",
       "      <td>2027</td>\n",
       "      <td>100</td>\n",
       "      <td>1005</td>\n",
       "      <td>60</td>\n",
       "      <td>0</td>\n",
       "    </tr>\n",
       "    <tr>\n",
       "      <th>1</th>\n",
       "      <td>2</td>\n",
       "      <td>7968</td>\n",
       "      <td>319</td>\n",
       "      <td>78</td>\n",
       "      <td>237</td>\n",
       "      <td>0</td>\n",
       "    </tr>\n",
       "    <tr>\n",
       "      <th>2</th>\n",
       "      <td>3</td>\n",
       "      <td>8526</td>\n",
       "      <td>100</td>\n",
       "      <td>246</td>\n",
       "      <td>207</td>\n",
       "      <td>0</td>\n",
       "    </tr>\n",
       "    <tr>\n",
       "      <th>3</th>\n",
       "      <td>4</td>\n",
       "      <td>9105</td>\n",
       "      <td>140</td>\n",
       "      <td>298</td>\n",
       "      <td>198</td>\n",
       "      <td>0</td>\n",
       "    </tr>\n",
       "    <tr>\n",
       "      <th>4</th>\n",
       "      <td>5</td>\n",
       "      <td>9962</td>\n",
       "      <td>140</td>\n",
       "      <td>909</td>\n",
       "      <td>1002</td>\n",
       "      <td>0</td>\n",
       "    </tr>\n",
       "  </tbody>\n",
       "</table>\n",
       "</div>"
      ],
      "text/plain": [
       "   number  timestamp  duration     x     y  saccadic_length\n",
       "0       1       2027       100  1005    60                0\n",
       "1       2       7968       319    78   237                0\n",
       "2       3       8526       100   246   207                0\n",
       "3       4       9105       140   298   198                0\n",
       "4       5       9962       140   909  1002                0"
      ]
     },
     "execution_count": 97,
     "metadata": {},
     "output_type": "execute_result"
    }
   ],
   "source": [
    "p1_treeFXD_df['saccadic_length'] = 0  # can add a new column and assign value this way\n",
    "p1_treeFXD_df.head()"
   ]
  },
  {
   "cell_type": "code",
   "execution_count": 112,
   "metadata": {},
   "outputs": [],
   "source": [
    "# function to calculate distance between two points\n",
    "def calculateDistance(x1,y1,x2,y2):\n",
    "     d = sqrt((x2 - x1)**2 + (y2 - y1)**2)\n",
    "     return d"
   ]
  },
  {
   "cell_type": "code",
   "execution_count": 172,
   "metadata": {
    "scrolled": true
   },
   "outputs": [
    {
     "data": {
      "text/plain": [
       "[None,\n",
       " 943.7467880740045,\n",
       " 170.6575518399347,\n",
       " 52.773099207835045,\n",
       " 1009.8202810401463]"
      ]
     },
     "execution_count": 172,
     "metadata": {},
     "output_type": "execute_result"
    }
   ],
   "source": [
    "# Function to return array of distances from array of points\n",
    "def getDistances(points):\n",
    "    distances = []\n",
    "    for i in range(len(points['x'])):\n",
    "        if i == 0:\n",
    "            distances.append(None)\n",
    "            continue\n",
    "        x1 = points.loc[i-1,'x']\n",
    "        y1 = points.loc[i-1,'y']\n",
    "        x2 = points.loc[i,'x']\n",
    "        y2 = points.loc[i,'y']\n",
    "        distances.append(calculateDistance(x1,y1,x2,y2))\n",
    "    return distances\n",
    "\n",
    "saccadicLengths = getDistances(p1_treeFXD_df)\n",
    "saccadicLengths[:5]"
   ]
  },
  {
   "cell_type": "markdown",
   "metadata": {},
   "source": [
    "### Average Saccadic Length"
   ]
  },
  {
   "cell_type": "code",
   "execution_count": 170,
   "metadata": {},
   "outputs": [
    {
     "name": "stdout",
     "output_type": "stream",
     "text": [
      "AvgSaccadicLength is : 160.96\n"
     ]
    }
   ],
   "source": [
    "# Function to get average saccadic length from fixation datafram\n",
    "def getAvgSaccadicLength(fixdf):\n",
    "    saccadicLengths = getDistances(fixdf)\n",
    "    return mean( filter(None, saccadicLengths) )\n",
    "\n",
    "AvgSaccadicLength = getAvgSaccadicLength(p1_treeFXD_df)\n",
    "print (\"AvgSaccadicLength is :\", round(AvgSaccadicLength,2))"
   ]
  },
  {
   "cell_type": "markdown",
   "metadata": {},
   "source": [
    "### Scan Path"
   ]
  },
  {
   "cell_type": "code",
   "execution_count": 171,
   "metadata": {},
   "outputs": [
    {
     "name": "stdout",
     "output_type": "stream",
     "text": [
      "Scanpath is : 425894.36\n"
     ]
    }
   ],
   "source": [
    "# Function to get scanpath from fixation dataframe\n",
    "def getScanpath(fixdf):\n",
    "    saccadicLengths = getDistances(fixdf)\n",
    "    return sum( filter(None, saccadicLengths) )\n",
    "\n",
    "Scanpath = getScanpath(p1_treeFXD_df)\n",
    "print (\"Scanpath is :\", round(Scanpath,2))"
   ]
  },
  {
   "cell_type": "markdown",
   "metadata": {},
   "source": [
    "### Area of Convex Hull"
   ]
  },
  {
   "cell_type": "code",
   "execution_count": 169,
   "metadata": {},
   "outputs": [
    {
     "name": "stdout",
     "output_type": "stream",
     "text": [
      "S : 3724.835369425075\n",
      "V : 956959.9999999999\n",
      "Area of ConvexHull : 3724.835369425075\n"
     ]
    }
   ],
   "source": [
    "# Function to get area of convex hull from fixation dataframe\n",
    "def getConvexHullArea(fixdf):\n",
    "    points = fixdf[['x','y']]\n",
    "    S = ConvexHull(points).area\n",
    "    V = ConvexHull(points).volume\n",
    "    print (\"S :\", S)\n",
    "    print (\"V :\", V)\n",
    "    return S\n",
    "\n",
    "ConvexHullArea = getConvexHullArea(p1_treeFXD_df)\n",
    "print (\"Area of ConvexHull :\", ConvexHullArea)"
   ]
  },
  {
   "cell_type": "markdown",
   "metadata": {},
   "source": [
    "### Total Fixations"
   ]
  },
  {
   "cell_type": "code",
   "execution_count": 163,
   "metadata": {},
   "outputs": [
    {
     "name": "stdout",
     "output_type": "stream",
     "text": [
      "TotalFix : 2647\n"
     ]
    }
   ],
   "source": [
    "def getTotalFixations(fixdf):\n",
    "    return len(fixdf.index)\n",
    "\n",
    "TotalFix = getTotalFixations(p1_treeFXD_df)\n",
    "print (\"TotalFix :\", TotalFix)"
   ]
  },
  {
   "cell_type": "markdown",
   "metadata": {},
   "source": [
    "### Average Fixation Duration"
   ]
  },
  {
   "cell_type": "code",
   "execution_count": 168,
   "metadata": {},
   "outputs": [
    {
     "name": "stdout",
     "output_type": "stream",
     "text": [
      "AvgDuration : 152\n"
     ]
    }
   ],
   "source": [
    "def getAvgDuration(fixdf):\n",
    "    return round( mean( filter(None, fixdf['duration']) ) )\n",
    "\n",
    "AvgDuration = getAvgDuration(p1_treeFXD_df)\n",
    "print (\"AvgDuration :\", AvgDuration)"
   ]
  },
  {
   "cell_type": "markdown",
   "metadata": {},
   "source": [
    "### Pupil Dilation\n",
    "Average pupil size - Baseline \n",
    "\n",
    "### Baseline\n",
    "Get average pupil sizes from baseline gaze data `p*/p*GZD.txt`\n",
    "\n",
    "### Average Pupil Size\n",
    "Get average left&right pupil sizes from gaze data `p*/p**GZD.txt`"
   ]
  },
  {
   "cell_type": "code",
   "execution_count": 213,
   "metadata": {},
   "outputs": [
    {
     "ename": "KeyError",
     "evalue": "\"['code_left', 'code_right'] not in index\"",
     "output_type": "error",
     "traceback": [
      "\u001b[0;31m---------------------------------------------------------------------------\u001b[0m",
      "\u001b[0;31mKeyError\u001b[0m                                  Traceback (most recent call last)",
      "\u001b[0;32m<ipython-input-213-25b8c3d897ad>\u001b[0m in \u001b[0;36m<module>\u001b[0;34m\u001b[0m\n\u001b[1;32m     35\u001b[0m     \u001b[0;32mreturn\u001b[0m \u001b[0mgzdf\u001b[0m\u001b[0;34m\u001b[0m\u001b[0;34m\u001b[0m\u001b[0m\n\u001b[1;32m     36\u001b[0m \u001b[0;34m\u001b[0m\u001b[0m\n\u001b[0;32m---> 37\u001b[0;31m \u001b[0mp1_treeGZD_df\u001b[0m \u001b[0;34m=\u001b[0m \u001b[0mprepGZD\u001b[0m\u001b[0;34m(\u001b[0m\u001b[0mp1_treeGZD_df\u001b[0m\u001b[0;34m)\u001b[0m\u001b[0;34m\u001b[0m\u001b[0;34m\u001b[0m\u001b[0m\n\u001b[0m\u001b[1;32m     38\u001b[0m \u001b[0mp1_treeGZD_df\u001b[0m\u001b[0;34m.\u001b[0m\u001b[0mhead\u001b[0m\u001b[0;34m(\u001b[0m\u001b[0;34m)\u001b[0m\u001b[0;34m\u001b[0m\u001b[0;34m\u001b[0m\u001b[0m\n\u001b[1;32m     39\u001b[0m \u001b[0;31m# p1_treeGZD_df.describe()\u001b[0m\u001b[0;34m\u001b[0m\u001b[0;34m\u001b[0m\u001b[0;34m\u001b[0m\u001b[0m\n",
      "\u001b[0;32m<ipython-input-213-25b8c3d897ad>\u001b[0m in \u001b[0;36mprepGZD\u001b[0;34m(gzdf)\u001b[0m\n\u001b[1;32m     17\u001b[0m                     15:'code_right'},inplace = True)\n\u001b[1;32m     18\u001b[0m     \u001b[0;31m# drop unnecessary columns (only keep useful columns)\u001b[0m\u001b[0;34m\u001b[0m\u001b[0;34m\u001b[0m\u001b[0;34m\u001b[0m\u001b[0m\n\u001b[0;32m---> 19\u001b[0;31m     \u001b[0mgzdf\u001b[0m \u001b[0;34m=\u001b[0m \u001b[0mgzdf\u001b[0m\u001b[0;34m[\u001b[0m\u001b[0;34m[\u001b[0m\u001b[0;34m'number'\u001b[0m\u001b[0;34m,\u001b[0m\u001b[0;34m'timestamp'\u001b[0m\u001b[0;34m,\u001b[0m\u001b[0;34m'pupil_left'\u001b[0m\u001b[0;34m,\u001b[0m\u001b[0;34m'code_left'\u001b[0m\u001b[0;34m,\u001b[0m\u001b[0;34m'pupil_right'\u001b[0m\u001b[0;34m,\u001b[0m\u001b[0;34m'code_right'\u001b[0m\u001b[0;34m]\u001b[0m\u001b[0;34m]\u001b[0m\u001b[0;34m\u001b[0m\u001b[0;34m\u001b[0m\u001b[0m\n\u001b[0m\u001b[1;32m     20\u001b[0m \u001b[0;34m\u001b[0m\u001b[0m\n\u001b[1;32m     21\u001b[0m     \u001b[0;31m# clean invalid data (only keep valid ones) based on validity code\u001b[0m\u001b[0;34m\u001b[0m\u001b[0;34m\u001b[0m\u001b[0;34m\u001b[0m\u001b[0m\n",
      "\u001b[0;32m~/anaconda3/lib/python3.7/site-packages/pandas/core/frame.py\u001b[0m in \u001b[0;36m__getitem__\u001b[0;34m(self, key)\u001b[0m\n\u001b[1;32m   2932\u001b[0m                 \u001b[0mkey\u001b[0m \u001b[0;34m=\u001b[0m \u001b[0mlist\u001b[0m\u001b[0;34m(\u001b[0m\u001b[0mkey\u001b[0m\u001b[0;34m)\u001b[0m\u001b[0;34m\u001b[0m\u001b[0;34m\u001b[0m\u001b[0m\n\u001b[1;32m   2933\u001b[0m             indexer = self.loc._convert_to_indexer(key, axis=1,\n\u001b[0;32m-> 2934\u001b[0;31m                                                    raise_missing=True)\n\u001b[0m\u001b[1;32m   2935\u001b[0m \u001b[0;34m\u001b[0m\u001b[0m\n\u001b[1;32m   2936\u001b[0m         \u001b[0;31m# take() does not accept boolean indexers\u001b[0m\u001b[0;34m\u001b[0m\u001b[0;34m\u001b[0m\u001b[0;34m\u001b[0m\u001b[0m\n",
      "\u001b[0;32m~/anaconda3/lib/python3.7/site-packages/pandas/core/indexing.py\u001b[0m in \u001b[0;36m_convert_to_indexer\u001b[0;34m(self, obj, axis, is_setter, raise_missing)\u001b[0m\n\u001b[1;32m   1352\u001b[0m                 kwargs = {'raise_missing': True if is_setter else\n\u001b[1;32m   1353\u001b[0m                           raise_missing}\n\u001b[0;32m-> 1354\u001b[0;31m                 \u001b[0;32mreturn\u001b[0m \u001b[0mself\u001b[0m\u001b[0;34m.\u001b[0m\u001b[0m_get_listlike_indexer\u001b[0m\u001b[0;34m(\u001b[0m\u001b[0mobj\u001b[0m\u001b[0;34m,\u001b[0m \u001b[0maxis\u001b[0m\u001b[0;34m,\u001b[0m \u001b[0;34m**\u001b[0m\u001b[0mkwargs\u001b[0m\u001b[0;34m)\u001b[0m\u001b[0;34m[\u001b[0m\u001b[0;36m1\u001b[0m\u001b[0;34m]\u001b[0m\u001b[0;34m\u001b[0m\u001b[0;34m\u001b[0m\u001b[0m\n\u001b[0m\u001b[1;32m   1355\u001b[0m         \u001b[0;32melse\u001b[0m\u001b[0;34m:\u001b[0m\u001b[0;34m\u001b[0m\u001b[0;34m\u001b[0m\u001b[0m\n\u001b[1;32m   1356\u001b[0m             \u001b[0;32mtry\u001b[0m\u001b[0;34m:\u001b[0m\u001b[0;34m\u001b[0m\u001b[0;34m\u001b[0m\u001b[0m\n",
      "\u001b[0;32m~/anaconda3/lib/python3.7/site-packages/pandas/core/indexing.py\u001b[0m in \u001b[0;36m_get_listlike_indexer\u001b[0;34m(self, key, axis, raise_missing)\u001b[0m\n\u001b[1;32m   1159\u001b[0m         self._validate_read_indexer(keyarr, indexer,\n\u001b[1;32m   1160\u001b[0m                                     \u001b[0mo\u001b[0m\u001b[0;34m.\u001b[0m\u001b[0m_get_axis_number\u001b[0m\u001b[0;34m(\u001b[0m\u001b[0maxis\u001b[0m\u001b[0;34m)\u001b[0m\u001b[0;34m,\u001b[0m\u001b[0;34m\u001b[0m\u001b[0;34m\u001b[0m\u001b[0m\n\u001b[0;32m-> 1161\u001b[0;31m                                     raise_missing=raise_missing)\n\u001b[0m\u001b[1;32m   1162\u001b[0m         \u001b[0;32mreturn\u001b[0m \u001b[0mkeyarr\u001b[0m\u001b[0;34m,\u001b[0m \u001b[0mindexer\u001b[0m\u001b[0;34m\u001b[0m\u001b[0;34m\u001b[0m\u001b[0m\n\u001b[1;32m   1163\u001b[0m \u001b[0;34m\u001b[0m\u001b[0m\n",
      "\u001b[0;32m~/anaconda3/lib/python3.7/site-packages/pandas/core/indexing.py\u001b[0m in \u001b[0;36m_validate_read_indexer\u001b[0;34m(self, key, indexer, axis, raise_missing)\u001b[0m\n\u001b[1;32m   1250\u001b[0m             \u001b[0;32mif\u001b[0m \u001b[0;32mnot\u001b[0m\u001b[0;34m(\u001b[0m\u001b[0mself\u001b[0m\u001b[0;34m.\u001b[0m\u001b[0mname\u001b[0m \u001b[0;34m==\u001b[0m \u001b[0;34m'loc'\u001b[0m \u001b[0;32mand\u001b[0m \u001b[0;32mnot\u001b[0m \u001b[0mraise_missing\u001b[0m\u001b[0;34m)\u001b[0m\u001b[0;34m:\u001b[0m\u001b[0;34m\u001b[0m\u001b[0;34m\u001b[0m\u001b[0m\n\u001b[1;32m   1251\u001b[0m                 \u001b[0mnot_found\u001b[0m \u001b[0;34m=\u001b[0m \u001b[0mlist\u001b[0m\u001b[0;34m(\u001b[0m\u001b[0mset\u001b[0m\u001b[0;34m(\u001b[0m\u001b[0mkey\u001b[0m\u001b[0;34m)\u001b[0m \u001b[0;34m-\u001b[0m \u001b[0mset\u001b[0m\u001b[0;34m(\u001b[0m\u001b[0max\u001b[0m\u001b[0;34m)\u001b[0m\u001b[0;34m)\u001b[0m\u001b[0;34m\u001b[0m\u001b[0;34m\u001b[0m\u001b[0m\n\u001b[0;32m-> 1252\u001b[0;31m                 \u001b[0;32mraise\u001b[0m \u001b[0mKeyError\u001b[0m\u001b[0;34m(\u001b[0m\u001b[0;34m\"{} not in index\"\u001b[0m\u001b[0;34m.\u001b[0m\u001b[0mformat\u001b[0m\u001b[0;34m(\u001b[0m\u001b[0mnot_found\u001b[0m\u001b[0;34m)\u001b[0m\u001b[0;34m)\u001b[0m\u001b[0;34m\u001b[0m\u001b[0;34m\u001b[0m\u001b[0m\n\u001b[0m\u001b[1;32m   1253\u001b[0m \u001b[0;34m\u001b[0m\u001b[0m\n\u001b[1;32m   1254\u001b[0m             \u001b[0;31m# we skip the warning on Categorical/Interval\u001b[0m\u001b[0;34m\u001b[0m\u001b[0;34m\u001b[0m\u001b[0;34m\u001b[0m\u001b[0m\n",
      "\u001b[0;31mKeyError\u001b[0m: \"['code_left', 'code_right'] not in index\""
     ]
    }
   ],
   "source": [
    "def prepGZD(gzdf):\n",
    "    gzdf.rename(columns ={0:'timestamp', \n",
    "                     1: 'number', \n",
    "                     2: 'screen_x_left', \n",
    "                     3: 'screen_y_left', \n",
    "                     4: 'cam_x_left',\n",
    "                     5:'cam_y_left',\n",
    "                     6:'distance_left',\n",
    "                     7:'pupil_left',\n",
    "                     8:'code_left', \n",
    "                    9:'screen_x_right', \n",
    "                    10:'screen_y_right',\n",
    "                    11:'cam_x_rigth',\n",
    "                    12:'cam_y_right',\n",
    "                    13:'distance_right', \n",
    "                    14:'pupil_right', \n",
    "                    15:'code_right'},inplace = True)\n",
    "    # drop unnecessary columns (only keep useful columns)\n",
    "    gzdf = gzdf[['number','timestamp','pupil_left','code_left','pupil_right','code_right']]\n",
    "\n",
    "    # clean invalid data (only keep valid ones) based on validity code\n",
    "    print ('raw data count:', len(gzdf.index))\n",
    "    gzdf = gzdf.loc[((gzdf['code_left'] == 0) & (gzdf['code_right'] == 0))]\n",
    "    print ('after cleaning invalid:', len(gzdf.index))\n",
    "    \n",
    "    # clean negative pupil size (only keep positive pupil size)\n",
    "    gzdf = gzdf.loc[((gzdf['pupil_left'] > 0) & (gzdf['pupil_right'] > 0))]\n",
    "    print ('after cleaning negative:', len(gzdf.index))\n",
    "    \n",
    "    # drop validity code columns\n",
    "    gzdf = gzdf.drop(['code_left','code_right'], axis = 1)\n",
    "    \n",
    "#     gzdf['pupilsize'] = gzdf[['pupil_left','pupil_right']]\n",
    "    gzdf['pupilsize'] = gzdf.apply(lambda row: mean(row.pupil_left,row.pupil_right), axis = 1)\n",
    "    \n",
    "    return gzdf\n",
    "\n",
    "p1_treeGZD_df = prepGZD(p1_treeGZD_df)\n",
    "p1_treeGZD_df.head()\n",
    "# p1_treeGZD_df.describe()\n",
    "    "
   ]
  },
  {
   "cell_type": "code",
   "execution_count": null,
   "metadata": {},
   "outputs": [],
   "source": [
    "# process baseline data\n",
    "p1_baseGZD_df =  pd.read_csv(dirPath+\"p1/p1GZD.txt\", sep = \"\\t\", header=None)\n",
    "# p1_baseGZD_df.head()\n",
    "\n",
    "# process pupil size data\n",
    "p1_treeGZD_df = pd.read_csv(dirPath+\"p1/p1.treeGZD.txt\", sep = \"\\t\", header=None)\n",
    "# p1_treeGZD_df.head()\n"
   ]
  },
  {
   "cell_type": "code",
   "execution_count": null,
   "metadata": {},
   "outputs": [],
   "source": []
  },
  {
   "cell_type": "markdown",
   "metadata": {},
   "source": [
    "### Total Clicks\n",
    "Count 'LMouseButton' event from event data `p*/p**EVD.txt`"
   ]
  },
  {
   "cell_type": "code",
   "execution_count": 177,
   "metadata": {},
   "outputs": [
    {
     "ename": "ParserError",
     "evalue": "Error tokenizing data. C error: Expected 6 fields in line 439, saw 7\n",
     "output_type": "error",
     "traceback": [
      "\u001b[0;31m---------------------------------------------------------------------------\u001b[0m",
      "\u001b[0;31mParserError\u001b[0m                               Traceback (most recent call last)",
      "\u001b[0;32m<ipython-input-177-e4c9b2508eaf>\u001b[0m in \u001b[0;36m<module>\u001b[0;34m\u001b[0m\n\u001b[1;32m      1\u001b[0m \u001b[0;31m#process event data\u001b[0m\u001b[0;34m\u001b[0m\u001b[0;34m\u001b[0m\u001b[0;34m\u001b[0m\u001b[0m\n\u001b[0;32m----> 2\u001b[0;31m \u001b[0mp1_treeEVD_df\u001b[0m \u001b[0;34m=\u001b[0m \u001b[0mpd\u001b[0m\u001b[0;34m.\u001b[0m\u001b[0mread_csv\u001b[0m\u001b[0;34m(\u001b[0m\u001b[0;34m\"../Raw_Data/p1/p1.treeEVD.txt\"\u001b[0m\u001b[0;34m,\u001b[0m \u001b[0msep\u001b[0m \u001b[0;34m=\u001b[0m \u001b[0;34m\"\\t\"\u001b[0m\u001b[0;34m,\u001b[0m \u001b[0mheader\u001b[0m\u001b[0;34m=\u001b[0m\u001b[0;32mNone\u001b[0m\u001b[0;34m)\u001b[0m\u001b[0;34m\u001b[0m\u001b[0;34m\u001b[0m\u001b[0m\n\u001b[0m\u001b[1;32m      3\u001b[0m \u001b[0;34m\u001b[0m\u001b[0m\n\u001b[1;32m      4\u001b[0m \u001b[0;31m# def prepEVD(evdf):\u001b[0m\u001b[0;34m\u001b[0m\u001b[0;34m\u001b[0m\u001b[0;34m\u001b[0m\u001b[0m\n\u001b[1;32m      5\u001b[0m \u001b[0;31m#     evdf.rename(columns = {0:'time',\u001b[0m\u001b[0;34m\u001b[0m\u001b[0;34m\u001b[0m\u001b[0;34m\u001b[0m\u001b[0m\n",
      "\u001b[0;32m~/anaconda3/lib/python3.7/site-packages/pandas/io/parsers.py\u001b[0m in \u001b[0;36mparser_f\u001b[0;34m(filepath_or_buffer, sep, delimiter, header, names, index_col, usecols, squeeze, prefix, mangle_dupe_cols, dtype, engine, converters, true_values, false_values, skipinitialspace, skiprows, skipfooter, nrows, na_values, keep_default_na, na_filter, verbose, skip_blank_lines, parse_dates, infer_datetime_format, keep_date_col, date_parser, dayfirst, iterator, chunksize, compression, thousands, decimal, lineterminator, quotechar, quoting, doublequote, escapechar, comment, encoding, dialect, tupleize_cols, error_bad_lines, warn_bad_lines, delim_whitespace, low_memory, memory_map, float_precision)\u001b[0m\n\u001b[1;32m    700\u001b[0m                     skip_blank_lines=skip_blank_lines)\n\u001b[1;32m    701\u001b[0m \u001b[0;34m\u001b[0m\u001b[0m\n\u001b[0;32m--> 702\u001b[0;31m         \u001b[0;32mreturn\u001b[0m \u001b[0m_read\u001b[0m\u001b[0;34m(\u001b[0m\u001b[0mfilepath_or_buffer\u001b[0m\u001b[0;34m,\u001b[0m \u001b[0mkwds\u001b[0m\u001b[0;34m)\u001b[0m\u001b[0;34m\u001b[0m\u001b[0;34m\u001b[0m\u001b[0m\n\u001b[0m\u001b[1;32m    703\u001b[0m \u001b[0;34m\u001b[0m\u001b[0m\n\u001b[1;32m    704\u001b[0m     \u001b[0mparser_f\u001b[0m\u001b[0;34m.\u001b[0m\u001b[0m__name__\u001b[0m \u001b[0;34m=\u001b[0m \u001b[0mname\u001b[0m\u001b[0;34m\u001b[0m\u001b[0;34m\u001b[0m\u001b[0m\n",
      "\u001b[0;32m~/anaconda3/lib/python3.7/site-packages/pandas/io/parsers.py\u001b[0m in \u001b[0;36m_read\u001b[0;34m(filepath_or_buffer, kwds)\u001b[0m\n\u001b[1;32m    433\u001b[0m \u001b[0;34m\u001b[0m\u001b[0m\n\u001b[1;32m    434\u001b[0m     \u001b[0;32mtry\u001b[0m\u001b[0;34m:\u001b[0m\u001b[0;34m\u001b[0m\u001b[0;34m\u001b[0m\u001b[0m\n\u001b[0;32m--> 435\u001b[0;31m         \u001b[0mdata\u001b[0m \u001b[0;34m=\u001b[0m \u001b[0mparser\u001b[0m\u001b[0;34m.\u001b[0m\u001b[0mread\u001b[0m\u001b[0;34m(\u001b[0m\u001b[0mnrows\u001b[0m\u001b[0;34m)\u001b[0m\u001b[0;34m\u001b[0m\u001b[0;34m\u001b[0m\u001b[0m\n\u001b[0m\u001b[1;32m    436\u001b[0m     \u001b[0;32mfinally\u001b[0m\u001b[0;34m:\u001b[0m\u001b[0;34m\u001b[0m\u001b[0;34m\u001b[0m\u001b[0m\n\u001b[1;32m    437\u001b[0m         \u001b[0mparser\u001b[0m\u001b[0;34m.\u001b[0m\u001b[0mclose\u001b[0m\u001b[0;34m(\u001b[0m\u001b[0;34m)\u001b[0m\u001b[0;34m\u001b[0m\u001b[0;34m\u001b[0m\u001b[0m\n",
      "\u001b[0;32m~/anaconda3/lib/python3.7/site-packages/pandas/io/parsers.py\u001b[0m in \u001b[0;36mread\u001b[0;34m(self, nrows)\u001b[0m\n\u001b[1;32m   1137\u001b[0m     \u001b[0;32mdef\u001b[0m \u001b[0mread\u001b[0m\u001b[0;34m(\u001b[0m\u001b[0mself\u001b[0m\u001b[0;34m,\u001b[0m \u001b[0mnrows\u001b[0m\u001b[0;34m=\u001b[0m\u001b[0;32mNone\u001b[0m\u001b[0;34m)\u001b[0m\u001b[0;34m:\u001b[0m\u001b[0;34m\u001b[0m\u001b[0;34m\u001b[0m\u001b[0m\n\u001b[1;32m   1138\u001b[0m         \u001b[0mnrows\u001b[0m \u001b[0;34m=\u001b[0m \u001b[0m_validate_integer\u001b[0m\u001b[0;34m(\u001b[0m\u001b[0;34m'nrows'\u001b[0m\u001b[0;34m,\u001b[0m \u001b[0mnrows\u001b[0m\u001b[0;34m)\u001b[0m\u001b[0;34m\u001b[0m\u001b[0;34m\u001b[0m\u001b[0m\n\u001b[0;32m-> 1139\u001b[0;31m         \u001b[0mret\u001b[0m \u001b[0;34m=\u001b[0m \u001b[0mself\u001b[0m\u001b[0;34m.\u001b[0m\u001b[0m_engine\u001b[0m\u001b[0;34m.\u001b[0m\u001b[0mread\u001b[0m\u001b[0;34m(\u001b[0m\u001b[0mnrows\u001b[0m\u001b[0;34m)\u001b[0m\u001b[0;34m\u001b[0m\u001b[0;34m\u001b[0m\u001b[0m\n\u001b[0m\u001b[1;32m   1140\u001b[0m \u001b[0;34m\u001b[0m\u001b[0m\n\u001b[1;32m   1141\u001b[0m         \u001b[0;31m# May alter columns / col_dict\u001b[0m\u001b[0;34m\u001b[0m\u001b[0;34m\u001b[0m\u001b[0;34m\u001b[0m\u001b[0m\n",
      "\u001b[0;32m~/anaconda3/lib/python3.7/site-packages/pandas/io/parsers.py\u001b[0m in \u001b[0;36mread\u001b[0;34m(self, nrows)\u001b[0m\n\u001b[1;32m   1993\u001b[0m     \u001b[0;32mdef\u001b[0m \u001b[0mread\u001b[0m\u001b[0;34m(\u001b[0m\u001b[0mself\u001b[0m\u001b[0;34m,\u001b[0m \u001b[0mnrows\u001b[0m\u001b[0;34m=\u001b[0m\u001b[0;32mNone\u001b[0m\u001b[0;34m)\u001b[0m\u001b[0;34m:\u001b[0m\u001b[0;34m\u001b[0m\u001b[0;34m\u001b[0m\u001b[0m\n\u001b[1;32m   1994\u001b[0m         \u001b[0;32mtry\u001b[0m\u001b[0;34m:\u001b[0m\u001b[0;34m\u001b[0m\u001b[0;34m\u001b[0m\u001b[0m\n\u001b[0;32m-> 1995\u001b[0;31m             \u001b[0mdata\u001b[0m \u001b[0;34m=\u001b[0m \u001b[0mself\u001b[0m\u001b[0;34m.\u001b[0m\u001b[0m_reader\u001b[0m\u001b[0;34m.\u001b[0m\u001b[0mread\u001b[0m\u001b[0;34m(\u001b[0m\u001b[0mnrows\u001b[0m\u001b[0;34m)\u001b[0m\u001b[0;34m\u001b[0m\u001b[0;34m\u001b[0m\u001b[0m\n\u001b[0m\u001b[1;32m   1996\u001b[0m         \u001b[0;32mexcept\u001b[0m \u001b[0mStopIteration\u001b[0m\u001b[0;34m:\u001b[0m\u001b[0;34m\u001b[0m\u001b[0;34m\u001b[0m\u001b[0m\n\u001b[1;32m   1997\u001b[0m             \u001b[0;32mif\u001b[0m \u001b[0mself\u001b[0m\u001b[0;34m.\u001b[0m\u001b[0m_first_chunk\u001b[0m\u001b[0;34m:\u001b[0m\u001b[0;34m\u001b[0m\u001b[0;34m\u001b[0m\u001b[0m\n",
      "\u001b[0;32mpandas/_libs/parsers.pyx\u001b[0m in \u001b[0;36mpandas._libs.parsers.TextReader.read\u001b[0;34m()\u001b[0m\n",
      "\u001b[0;32mpandas/_libs/parsers.pyx\u001b[0m in \u001b[0;36mpandas._libs.parsers.TextReader._read_low_memory\u001b[0;34m()\u001b[0m\n",
      "\u001b[0;32mpandas/_libs/parsers.pyx\u001b[0m in \u001b[0;36mpandas._libs.parsers.TextReader._read_rows\u001b[0;34m()\u001b[0m\n",
      "\u001b[0;32mpandas/_libs/parsers.pyx\u001b[0m in \u001b[0;36mpandas._libs.parsers.TextReader._tokenize_rows\u001b[0;34m()\u001b[0m\n",
      "\u001b[0;32mpandas/_libs/parsers.pyx\u001b[0m in \u001b[0;36mpandas._libs.parsers.raise_parser_error\u001b[0;34m()\u001b[0m\n",
      "\u001b[0;31mParserError\u001b[0m: Error tokenizing data. C error: Expected 6 fields in line 439, saw 7\n"
     ]
    }
   ],
   "source": [
    "#process event data\n",
    "p1_treeEVD_df = pd.read_csv(\"../Raw_Data/p1/p1.treeEVD.txt\", sep = \"\\t\", header=None)\n",
    "\n",
    "# def prepEVD(evdf):\n",
    "#     evdf.rename(columns = {0:'time', \n",
    "#                      1: 'event', \n",
    "#                      2: 'event_key', \n",
    "#                      3: 'data1', \n",
    "#                      4: 'data2',\n",
    "#                      5:'description'}, inplace = True)\n",
    "#     return evdf\n",
    "\n",
    "# p1_treeEVD_df = prepEVD(p1_treeEVD_df)\n",
    "p1_treeEVD_df.head()\n",
    "# def get"
   ]
  },
  {
   "cell_type": "code",
   "execution_count": null,
   "metadata": {},
   "outputs": [],
   "source": []
  }
 ],
 "metadata": {
  "kernelspec": {
   "display_name": "Python 3",
   "language": "python",
   "name": "python3"
  },
  "language_info": {
   "codemirror_mode": {
    "name": "ipython",
    "version": 3
   },
   "file_extension": ".py",
   "mimetype": "text/x-python",
   "name": "python",
   "nbconvert_exporter": "python",
   "pygments_lexer": "ipython3",
   "version": "3.7.3"
  }
 },
 "nbformat": 4,
 "nbformat_minor": 2
}
