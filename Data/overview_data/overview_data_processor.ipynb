{
 "cells": [
  {
   "cell_type": "markdown",
   "metadata": {},
   "source": [
    "# Visualization for Overview\n",
    "\n",
    "## Attributes to Measure Efficiency of the Visualization\n",
    "\n",
    "Let's use Radar Chart with 4~6 axis\n",
    "\n",
    "4~6 attributes \n",
    "1. time\n",
    "2. total number of fixations\n",
    "3. avg fix duration\n",
    "4. scan path\n",
    "5. area of convex hull\n",
    "6. avg pupil dilation\n",
    "7. total number of clicks\n",
    "\n",
    "*all in average(mean) for the group of participants*\n"
   ]
  },
  {
   "cell_type": "markdown",
   "metadata": {},
   "source": [
    "### Data needed for each participant\n",
    "\n",
    "- [x] time\n",
    "  - time on task\n",
    "    - from `Others/participant_data.js`\n",
    "\n",
    "- [x] total # of fixations\n",
    "  - last fixation's serial number\n",
    "- [x] avg fix duration\n",
    "  - calculate average durations\n",
    "    - fixation data from `Raw_Data/p1/p1.treeFXD.txt, Raw_Data/p1/p1.graphFXD.txt, Raw_Data/p2/p2.treeFXD.txt, Raw_Data/p2/p2.graphFXD.txt, ...`\n",
    "  \n",
    "- [x] scan path\n",
    "  - calculate saccadic length between each fixations\n",
    "  - add all saccadic length up\n",
    "- [x] avg saccadic length\n",
    "  - get avg of all saccadic length\n",
    "      - fixation data from `Raw_Data/... p1/p1.treeFXD.txt, p1/p1.graphFXD.txt, p2/p2.treeFXD.txt, p2/p2.graphFXD.txt, ...`\n",
    "\n",
    "- [x] avg pupil dilation\n",
    "  - [x] avg baseline (b/c of different base pupil sizes depend on ppl's eyes and conditions)\n",
    "    - baseline data from `Raw_Data/p1/p1GZD.txt, Raw_Data/p2/p2GZD.txt, ...`\n",
    "  - [x] avg left, right pupil size throughout the task\n",
    "    - gaze data from `filtered_data/... p1/p1treeGZD.js, p1/p1graphGZD.js, p2/p1treeGZD.js, ...`\n",
    "  \n",
    "- [x] area of convex hull\n",
    "  - calculate it using [scipy.spatial.ConvexHull](https://docs.scipy.org/doc/scipy/reference/generated/scipy.spatial.ConvexHull.html)\n",
    "    - fixation from `Raw_Data/... p1/p1.treeFXD.txt, p1/p1.graphFXD.txt, p2/p2.treeFXD.txt, p2/p2.graphFXD.txt, ...`\n",
    "  \n",
    "- [x] total # of clicks\n",
    "  - count the total 'LMouseButton' events\n",
    "    - event data from `Raw_Data/... p1/p1.treeEVD.txt, p1/p1.graphEVD.txt, p2/p2.treeEVD.txt, p2/p2.graphEVD.txt, ...`\n",
    "    "
   ]
  },
  {
   "cell_type": "markdown",
   "metadata": {},
   "source": [
    "### Final output planned\n",
    "for example...\n",
    "1. overview_participant.csv\n",
    "```\n",
    "pid,ont_type,vis_type,session_type,time,success,totalfix,avg_fix_duration,scanpath,avg_saccadic_length,avg_pupil_dilation,convexhull_area,totalclick\n",
    "p1,1,1,1,26,0.608695652,2647,140,10000,20,1.2,1000,606\n",
    "p1,2,2,4,38,0.52173913,2422,200,20000,10,2.0,1200,984\n",
    "p2,1,2,3,19,0.347826087,2581,,,,,,416\n",
    "p2,2,1,2,25,0.391304348,1166,,,,,,371\n",
    "p3,1,1,1,10,0.47826087,1564,,,,,,173\n",
    "p3,2,2,4,50,0.391304348,7967,,,,,,891\n",
    "p4,1,2,3,12,0.391304348,590,,,,,,235\n",
    "p4,2,1,2,9,0.52173913,605,,,,,,254\n",
    "```\n",
    "2. overview_combined.csv\n",
    "```\n",
    "sessionID,ont_type,vis_type,m_time,m_success,m_totalfix,m_avg_fix_duration,m_scanpath,m_avg_saccadic_length,m_avg_pupil_dilation,m_convexhull_area,m_totalclick\n",
    "1,general,tree,18,0.5,2000,,,,,,490\n",
    "2,expert,tree,17,0.45,850,,,,,,310\n",
    "3,general,graph,15.5,0.37,1500,,,,,,300\n",
    "4,expert,graph,44,0.45,5000,,,,,,930\n",
    "```\n",
    "\n",
    "#### Field info\n",
    "\n",
    "ontology type:\n",
    "1. general\n",
    "2. expert\n",
    "\n",
    "visualization type:\n",
    "1. tree\n",
    "2. graph\n",
    "\n",
    "session type:\n",
    "1. general - tree\n",
    "3. expert - tree\n",
    "2. general - graph\n",
    "4. expert - graph\n"
   ]
  },
  {
   "cell_type": "markdown",
   "metadata": {},
   "source": [
    "## Import libraries"
   ]
  },
  {
   "cell_type": "code",
   "execution_count": 1,
   "metadata": {},
   "outputs": [],
   "source": [
    "#importing necessary libraries\n",
    "import pandas as pd\n",
    "import os\n",
    "import glob\n",
    "from math import sqrt\n",
    "from statistics import mean\n",
    "from scipy.spatial import ConvexHull\n",
    "\n",
    "import numpy as np\n",
    "import matplotlib.pyplot as plt\n",
    "import seaborn as sns\n",
    "\n",
    "import sys\n",
    "import warnings\n",
    "warnings.filterwarnings(\"ignore\")\n"
   ]
  },
  {
   "cell_type": "markdown",
   "metadata": {},
   "source": [
    "## Loading the data"
   ]
  },
  {
   "cell_type": "markdown",
   "metadata": {},
   "source": [
    "## 1. ont_type, vis_type, time, success"
   ]
  },
  {
   "cell_type": "code",
   "execution_count": 2,
   "metadata": {},
   "outputs": [
    {
     "data": {
      "text/html": [
       "<div>\n",
       "<style scoped>\n",
       "    .dataframe tbody tr th:only-of-type {\n",
       "        vertical-align: middle;\n",
       "    }\n",
       "\n",
       "    .dataframe tbody tr th {\n",
       "        vertical-align: top;\n",
       "    }\n",
       "\n",
       "    .dataframe thead th {\n",
       "        text-align: right;\n",
       "    }\n",
       "</style>\n",
       "<table border=\"1\" class=\"dataframe\">\n",
       "  <thead>\n",
       "    <tr style=\"text-align: right;\">\n",
       "      <th></th>\n",
       "      <th>P_ID</th>\n",
       "      <th>Ontology</th>\n",
       "      <th>Visualization</th>\n",
       "      <th>Session_Type</th>\n",
       "      <th>Time_On_Task</th>\n",
       "      <th>Task_Success</th>\n",
       "    </tr>\n",
       "  </thead>\n",
       "  <tbody>\n",
       "    <tr>\n",
       "      <th>0</th>\n",
       "      <td>p1</td>\n",
       "      <td>1</td>\n",
       "      <td>1</td>\n",
       "      <td>1</td>\n",
       "      <td>26</td>\n",
       "      <td>0.608696</td>\n",
       "    </tr>\n",
       "    <tr>\n",
       "      <th>1</th>\n",
       "      <td>p1</td>\n",
       "      <td>2</td>\n",
       "      <td>2</td>\n",
       "      <td>4</td>\n",
       "      <td>38</td>\n",
       "      <td>0.521739</td>\n",
       "    </tr>\n",
       "    <tr>\n",
       "      <th>2</th>\n",
       "      <td>p3</td>\n",
       "      <td>1</td>\n",
       "      <td>1</td>\n",
       "      <td>1</td>\n",
       "      <td>10</td>\n",
       "      <td>0.478261</td>\n",
       "    </tr>\n",
       "    <tr>\n",
       "      <th>3</th>\n",
       "      <td>p3</td>\n",
       "      <td>2</td>\n",
       "      <td>2</td>\n",
       "      <td>4</td>\n",
       "      <td>50</td>\n",
       "      <td>0.391304</td>\n",
       "    </tr>\n",
       "    <tr>\n",
       "      <th>4</th>\n",
       "      <td>p5</td>\n",
       "      <td>1</td>\n",
       "      <td>1</td>\n",
       "      <td>1</td>\n",
       "      <td>22</td>\n",
       "      <td>0.521739</td>\n",
       "    </tr>\n",
       "  </tbody>\n",
       "</table>\n",
       "</div>"
      ],
      "text/plain": [
       "  P_ID  Ontology  Visualization  Session_Type  Time_On_Task  Task_Success\n",
       "0   p1         1              1             1            26      0.608696\n",
       "1   p1         2              2             4            38      0.521739\n",
       "2   p3         1              1             1            10      0.478261\n",
       "3   p3         2              2             4            50      0.391304\n",
       "4   p5         1              1             1            22      0.521739"
      ]
     },
     "execution_count": 2,
     "metadata": {},
     "output_type": "execute_result"
    }
   ],
   "source": [
    "df = pd.read_json ('tweakedData/participant_data.json')\n",
    "# df.rename(columns = {'P_ID':'pid', \n",
    "#                      'Ontology': 'ont_type', \n",
    "#                      'Visualization': 'vis_type', \n",
    "#                      'Session_Type': 'session_type', \n",
    "#                      'Time_On_Task': 'time',\n",
    "#                      'Task_Success': 'success'}, inplace = True)\n",
    "df = df[['P_ID','Ontology','Visualization','Session_Type','Time_On_Task','Task_Success']]\n",
    "df.head(5)"
   ]
  },
  {
   "cell_type": "code",
   "execution_count": 3,
   "metadata": {
    "scrolled": false
   },
   "outputs": [
    {
     "data": {
      "image/png": "[encoded data removed]",
      "text/plain": [
       "<Figure size 432x288 with 2 Axes>"
      ]
     },
     "metadata": {
      "needs_background": "light"
     },
     "output_type": "display_data"
    }
   ],
   "source": [
    "df[['Task_Success','Time_On_Task']].hist();"
   ]
  },
  {
   "cell_type": "markdown",
   "metadata": {},
   "source": [
    "## 2. totalfix, avg_fixation_duration"
   ]
  },
  {
   "cell_type": "markdown",
   "metadata": {},
   "source": [
    "## 2-1. Work with multiple fixation files\n",
    "Combine all???"
   ]
  },
  {
   "cell_type": "code",
   "execution_count": 4,
   "metadata": {},
   "outputs": [],
   "source": [
    "dirPath = '../Raw_Data/'\n",
    "FXD_filenames = [i for i in glob.glob(dirPath+'p*/p*.*FXD.txt')]"
   ]
  },
  {
   "cell_type": "code",
   "execution_count": 5,
   "metadata": {},
   "outputs": [
    {
     "data": {
      "text/html": [
       "<div>\n",
       "<style scoped>\n",
       "    .dataframe tbody tr th:only-of-type {\n",
       "        vertical-align: middle;\n",
       "    }\n",
       "\n",
       "    .dataframe tbody tr th {\n",
       "        vertical-align: top;\n",
       "    }\n",
       "\n",
       "    .dataframe thead th {\n",
       "        text-align: right;\n",
       "    }\n",
       "</style>\n",
       "<table border=\"1\" class=\"dataframe\">\n",
       "  <thead>\n",
       "    <tr style=\"text-align: right;\">\n",
       "      <th></th>\n",
       "      <th>number</th>\n",
       "      <th>timestamp</th>\n",
       "      <th>duration</th>\n",
       "      <th>x</th>\n",
       "      <th>y</th>\n",
       "    </tr>\n",
       "  </thead>\n",
       "  <tbody>\n",
       "    <tr>\n",
       "      <th>0</th>\n",
       "      <td>1</td>\n",
       "      <td>475</td>\n",
       "      <td>100</td>\n",
       "      <td>632</td>\n",
       "      <td>405</td>\n",
       "    </tr>\n",
       "    <tr>\n",
       "      <th>1</th>\n",
       "      <td>2</td>\n",
       "      <td>4084</td>\n",
       "      <td>100</td>\n",
       "      <td>285</td>\n",
       "      <td>197</td>\n",
       "    </tr>\n",
       "    <tr>\n",
       "      <th>2</th>\n",
       "      <td>3</td>\n",
       "      <td>4622</td>\n",
       "      <td>339</td>\n",
       "      <td>72</td>\n",
       "      <td>208</td>\n",
       "    </tr>\n",
       "    <tr>\n",
       "      <th>3</th>\n",
       "      <td>4</td>\n",
       "      <td>7792</td>\n",
       "      <td>199</td>\n",
       "      <td>304</td>\n",
       "      <td>978</td>\n",
       "    </tr>\n",
       "    <tr>\n",
       "      <th>4</th>\n",
       "      <td>5</td>\n",
       "      <td>8490</td>\n",
       "      <td>120</td>\n",
       "      <td>389</td>\n",
       "      <td>915</td>\n",
       "    </tr>\n",
       "  </tbody>\n",
       "</table>\n",
       "</div>"
      ],
      "text/plain": [
       "   number  timestamp  duration    x    y\n",
       "0       1        475       100  632  405\n",
       "1       2       4084       100  285  197\n",
       "2       3       4622       339   72  208\n",
       "3       4       7792       199  304  978\n",
       "4       5       8490       120  389  915"
      ]
     },
     "execution_count": 5,
     "metadata": {},
     "output_type": "execute_result"
    }
   ],
   "source": [
    "fix_dfs = pd.concat([pd.read_csv(f, sep=\"\\t\", header=None) for f in FXD_filenames])\n",
    "fix_dfs.rename(columns = {0:'number', \n",
    "                     1: 'timestamp', \n",
    "                     2: 'duration', \n",
    "                     3: 'x', \n",
    "                     4: 'y'}, inplace = True)\n",
    "fix_dfs.head()\n"
   ]
  },
  {
   "cell_type": "code",
   "execution_count": 6,
   "metadata": {},
   "outputs": [
    {
     "name": "stdout",
     "output_type": "stream",
     "text": [
      "total data count : 193536\n"
     ]
    }
   ],
   "source": [
    "print ('total data count :', len(fix_dfs.index))"
   ]
  },
  {
   "cell_type": "markdown",
   "metadata": {},
   "source": [
    "But, I don't want to use this smashed one.  \n",
    "The attributes I want to use should be calculated for each fixation file.  \n",
    "Then..."
   ]
  },
  {
   "cell_type": "markdown",
   "metadata": {},
   "source": [
    "## 2-2. Let's test the process with one fixation file first"
   ]
  },
  {
   "cell_type": "markdown",
   "metadata": {},
   "source": [
    "## Process Data: 1 Fixation"
   ]
  },
  {
   "cell_type": "code",
   "execution_count": 7,
   "metadata": {},
   "outputs": [
    {
     "data": {
      "text/html": [
       "<div>\n",
       "<style scoped>\n",
       "    .dataframe tbody tr th:only-of-type {\n",
       "        vertical-align: middle;\n",
       "    }\n",
       "\n",
       "    .dataframe tbody tr th {\n",
       "        vertical-align: top;\n",
       "    }\n",
       "\n",
       "    .dataframe thead th {\n",
       "        text-align: right;\n",
       "    }\n",
       "</style>\n",
       "<table border=\"1\" class=\"dataframe\">\n",
       "  <thead>\n",
       "    <tr style=\"text-align: right;\">\n",
       "      <th></th>\n",
       "      <th>number</th>\n",
       "      <th>timestamp</th>\n",
       "      <th>duration</th>\n",
       "      <th>x</th>\n",
       "      <th>y</th>\n",
       "    </tr>\n",
       "  </thead>\n",
       "  <tbody>\n",
       "    <tr>\n",
       "      <th>0</th>\n",
       "      <td>1</td>\n",
       "      <td>2027</td>\n",
       "      <td>100</td>\n",
       "      <td>1005</td>\n",
       "      <td>60</td>\n",
       "    </tr>\n",
       "    <tr>\n",
       "      <th>1</th>\n",
       "      <td>2</td>\n",
       "      <td>7968</td>\n",
       "      <td>319</td>\n",
       "      <td>78</td>\n",
       "      <td>237</td>\n",
       "    </tr>\n",
       "    <tr>\n",
       "      <th>2</th>\n",
       "      <td>3</td>\n",
       "      <td>8526</td>\n",
       "      <td>100</td>\n",
       "      <td>246</td>\n",
       "      <td>207</td>\n",
       "    </tr>\n",
       "    <tr>\n",
       "      <th>3</th>\n",
       "      <td>4</td>\n",
       "      <td>9105</td>\n",
       "      <td>140</td>\n",
       "      <td>298</td>\n",
       "      <td>198</td>\n",
       "    </tr>\n",
       "    <tr>\n",
       "      <th>4</th>\n",
       "      <td>5</td>\n",
       "      <td>9962</td>\n",
       "      <td>140</td>\n",
       "      <td>909</td>\n",
       "      <td>1002</td>\n",
       "    </tr>\n",
       "  </tbody>\n",
       "</table>\n",
       "</div>"
      ],
      "text/plain": [
       "   number  timestamp  duration     x     y\n",
       "0       1       2027       100  1005    60\n",
       "1       2       7968       319    78   237\n",
       "2       3       8526       100   246   207\n",
       "3       4       9105       140   298   198\n",
       "4       5       9962       140   909  1002"
      ]
     },
     "execution_count": 7,
     "metadata": {},
     "output_type": "execute_result"
    }
   ],
   "source": [
    "# Function to pre-process fixation data dataframe\n",
    "def prepFXD(fxdf):\n",
    "    fxdf.rename(columns = {0:'number', \n",
    "                     1: 'timestamp', \n",
    "                     2: 'duration', \n",
    "                     3: 'x', \n",
    "                     4: 'y'}, inplace = True)\n",
    "    return fxdf\n",
    "\n",
    "# testing with one fixation file\n",
    "p1_treeFXD_df = pd.read_csv(dirPath+\"p1/p1.treeFXD.txt\", sep = \"\\t\", header=None)\n",
    "p1_treeFXD_df = prepFXD(p1_treeFXD_df)\n",
    "p1_treeFXD_df.head()\n",
    "\n",
    "# p1_treeFXD_df.set_index('number', inplace = True)  # set 'number'column as a key\n",
    "# p1_treeFXD_df[['duration']].head()  # can get dataframe only with the selected column"
   ]
  },
  {
   "cell_type": "markdown",
   "metadata": {},
   "source": [
    "### Calculating Saccadic Length"
   ]
  },
  {
   "cell_type": "code",
   "execution_count": 8,
   "metadata": {},
   "outputs": [
    {
     "data": {
      "text/html": [
       "<div>\n",
       "<style scoped>\n",
       "    .dataframe tbody tr th:only-of-type {\n",
       "        vertical-align: middle;\n",
       "    }\n",
       "\n",
       "    .dataframe tbody tr th {\n",
       "        vertical-align: top;\n",
       "    }\n",
       "\n",
       "    .dataframe thead th {\n",
       "        text-align: right;\n",
       "    }\n",
       "</style>\n",
       "<table border=\"1\" class=\"dataframe\">\n",
       "  <thead>\n",
       "    <tr style=\"text-align: right;\">\n",
       "      <th></th>\n",
       "      <th>number</th>\n",
       "      <th>timestamp</th>\n",
       "      <th>duration</th>\n",
       "      <th>x</th>\n",
       "      <th>y</th>\n",
       "      <th>saccadic_length</th>\n",
       "    </tr>\n",
       "  </thead>\n",
       "  <tbody>\n",
       "    <tr>\n",
       "      <th>0</th>\n",
       "      <td>1</td>\n",
       "      <td>2027</td>\n",
       "      <td>100</td>\n",
       "      <td>1005</td>\n",
       "      <td>60</td>\n",
       "      <td>0</td>\n",
       "    </tr>\n",
       "    <tr>\n",
       "      <th>1</th>\n",
       "      <td>2</td>\n",
       "      <td>7968</td>\n",
       "      <td>319</td>\n",
       "      <td>78</td>\n",
       "      <td>237</td>\n",
       "      <td>0</td>\n",
       "    </tr>\n",
       "    <tr>\n",
       "      <th>2</th>\n",
       "      <td>3</td>\n",
       "      <td>8526</td>\n",
       "      <td>100</td>\n",
       "      <td>246</td>\n",
       "      <td>207</td>\n",
       "      <td>0</td>\n",
       "    </tr>\n",
       "    <tr>\n",
       "      <th>3</th>\n",
       "      <td>4</td>\n",
       "      <td>9105</td>\n",
       "      <td>140</td>\n",
       "      <td>298</td>\n",
       "      <td>198</td>\n",
       "      <td>0</td>\n",
       "    </tr>\n",
       "    <tr>\n",
       "      <th>4</th>\n",
       "      <td>5</td>\n",
       "      <td>9962</td>\n",
       "      <td>140</td>\n",
       "      <td>909</td>\n",
       "      <td>1002</td>\n",
       "      <td>0</td>\n",
       "    </tr>\n",
       "  </tbody>\n",
       "</table>\n",
       "</div>"
      ],
      "text/plain": [
       "   number  timestamp  duration     x     y  saccadic_length\n",
       "0       1       2027       100  1005    60                0\n",
       "1       2       7968       319    78   237                0\n",
       "2       3       8526       100   246   207                0\n",
       "3       4       9105       140   298   198                0\n",
       "4       5       9962       140   909  1002                0"
      ]
     },
     "execution_count": 8,
     "metadata": {},
     "output_type": "execute_result"
    }
   ],
   "source": [
    "p1_treeFXD_df['saccadic_length'] = 0  # can add a new column and assign value this way\n",
    "p1_treeFXD_df.head()"
   ]
  },
  {
   "cell_type": "code",
   "execution_count": 9,
   "metadata": {},
   "outputs": [],
   "source": [
    "# function to calculate distance between two points\n",
    "def calculateDistance(x1,y1,x2,y2):\n",
    "     d = sqrt((x2 - x1)**2 + (y2 - y1)**2)\n",
    "     return d"
   ]
  },
  {
   "cell_type": "code",
   "execution_count": 10,
   "metadata": {
    "scrolled": true
   },
   "outputs": [
    {
     "data": {
      "text/plain": [
       "[None,\n",
       " 943.7467880740045,\n",
       " 170.6575518399347,\n",
       " 52.773099207835045,\n",
       " 1009.8202810401463]"
      ]
     },
     "execution_count": 10,
     "metadata": {},
     "output_type": "execute_result"
    }
   ],
   "source": [
    "# Function to return array of distances from array of points\n",
    "def getDistances(points):\n",
    "    distances = []\n",
    "    for i in range(len(points['x'])):\n",
    "        if i == 0:\n",
    "            distances.append(None)\n",
    "            continue\n",
    "        x1 = points.loc[i-1,'x']\n",
    "        y1 = points.loc[i-1,'y']\n",
    "        x2 = points.loc[i,'x']\n",
    "        y2 = points.loc[i,'y']\n",
    "        distances.append(calculateDistance(x1,y1,x2,y2))\n",
    "    return distances\n",
    "\n",
    "saccadicLengths = getDistances(p1_treeFXD_df)\n",
    "saccadicLengths[:5]"
   ]
  },
  {
   "cell_type": "markdown",
   "metadata": {},
   "source": [
    "### Average Saccadic Length"
   ]
  },
  {
   "cell_type": "code",
   "execution_count": 25,
   "metadata": {},
   "outputs": [
    {
     "name": "stdout",
     "output_type": "stream",
     "text": [
      "AvgSaccadicLength: 160.96\n"
     ]
    }
   ],
   "source": [
    "# Function to get average saccadic length from fixation datafram\n",
    "def getAvgSaccadicLength(fixdf):\n",
    "    saccadicLengths = getDistances(fixdf)\n",
    "    return mean( filter(None, saccadicLengths) )\n",
    "\n",
    "AvgSaccadicLength = getAvgSaccadicLength(p1_treeFXD_df)\n",
    "print (\"AvgSaccadicLength:\", round(AvgSaccadicLength,2))"
   ]
  },
  {
   "cell_type": "markdown",
   "metadata": {},
   "source": [
    "### Scan Path"
   ]
  },
  {
   "cell_type": "code",
   "execution_count": 26,
   "metadata": {},
   "outputs": [
    {
     "name": "stdout",
     "output_type": "stream",
     "text": [
      "Scanpath: 425894.36\n"
     ]
    }
   ],
   "source": [
    "# Function to get scanpath from fixation dataframe\n",
    "def getScanpath(fixdf):\n",
    "    saccadicLengths = getDistances(fixdf)\n",
    "    return sum( filter(None, saccadicLengths) )\n",
    "\n",
    "Scanpath = getScanpath(p1_treeFXD_df)\n",
    "print (\"Scanpath:\", round(Scanpath,2))"
   ]
  },
  {
   "cell_type": "markdown",
   "metadata": {},
   "source": [
    "### Area of Convex Hull"
   ]
  },
  {
   "cell_type": "code",
   "execution_count": 28,
   "metadata": {},
   "outputs": [
    {
     "name": "stdout",
     "output_type": "stream",
     "text": [
      "Area of ConvexHull: 3724.835369425075\n"
     ]
    }
   ],
   "source": [
    "# Function to get area of convex hull from fixation dataframe\n",
    "def getConvexHullArea(fixdf):\n",
    "    points = fixdf[['x','y']]\n",
    "    hull = ConvexHull(points)\n",
    "    # since the fixation data is 2d, area is hull.area, not hull.volume\n",
    "    return hull.area\n",
    "\n",
    "ConvexHullArea = getConvexHullArea(p1_treeFXD_df)\n",
    "print (\"Area of ConvexHull:\", ConvexHullArea)"
   ]
  },
  {
   "cell_type": "markdown",
   "metadata": {},
   "source": [
    "### Total Fixations"
   ]
  },
  {
   "cell_type": "code",
   "execution_count": 14,
   "metadata": {},
   "outputs": [
    {
     "name": "stdout",
     "output_type": "stream",
     "text": [
      "TotalFix : 2647\n"
     ]
    }
   ],
   "source": [
    "def getTotalFixations(fixdf):\n",
    "    return len(fixdf.index)\n",
    "\n",
    "TotalFix = getTotalFixations(p1_treeFXD_df)\n",
    "print (\"TotalFix :\", TotalFix)"
   ]
  },
  {
   "cell_type": "markdown",
   "metadata": {},
   "source": [
    "### Average Fixation Duration"
   ]
  },
  {
   "cell_type": "code",
   "execution_count": 15,
   "metadata": {},
   "outputs": [
    {
     "name": "stdout",
     "output_type": "stream",
     "text": [
      "AvgDuration : 152\n"
     ]
    }
   ],
   "source": [
    "def getAvgDuration(fixdf):\n",
    "    return round( mean( filter(None, fixdf['duration']) ) )\n",
    "\n",
    "AvgDuration = getAvgDuration(p1_treeFXD_df)\n",
    "print (\"AvgDuration :\", AvgDuration)"
   ]
  },
  {
   "cell_type": "markdown",
   "metadata": {},
   "source": [
    "## Process Data: 2 Gaze"
   ]
  },
  {
   "cell_type": "code",
   "execution_count": 29,
   "metadata": {},
   "outputs": [],
   "source": [
    "# Function to pre-process gaze data dataframe\n",
    "def prepGZD(gzdf):\n",
    "    gzdf.rename(columns ={0:'timestamp', \n",
    "                     1: 'number', \n",
    "                     2: 'screen_x_left', \n",
    "                     3: 'screen_y_left', \n",
    "                     4: 'cam_x_left',\n",
    "                     5:'cam_y_left',\n",
    "                     6:'distance_left',\n",
    "                     7:'pupil_left',\n",
    "                     8:'code_left', \n",
    "                    9:'screen_x_right', \n",
    "                    10:'screen_y_right',\n",
    "                    11:'cam_x_rigth',\n",
    "                    12:'cam_y_right',\n",
    "                    13:'distance_right', \n",
    "                    14:'pupil_right', \n",
    "                    15:'code_right'}, inplace = True)\n",
    "    # clean invalid data (only keep valid ones) based on validity code\n",
    "    print ('raw data count:', len(gzdf.index))\n",
    "    gzdf = gzdf.loc[((gzdf['code_left'] == 0) & (gzdf['code_right'] == 0))]\n",
    "    print ('after cleaning invalid:', len(gzdf.index))\n",
    "    \n",
    "    # clean negative pupil size (only keep positive pupil size)\n",
    "    gzdf = gzdf.loc[((gzdf['pupil_left'] > 0) & (gzdf['pupil_right'] > 0))]\n",
    "    print ('after cleaning negative:', len(gzdf.index))\n",
    "    \n",
    "    # drop validity code columns\n",
    "    \n",
    "    # add new column for average left&right pupil size\n",
    "    gzdf['pupil_avg'] = gzdf[['pupil_left','pupil_right']].mean(axis=1)\n",
    "    \n",
    "    # drop unnecessary columns (only keep useful columns)\n",
    "    gzdf = gzdf[['number','timestamp','pupil_avg']]\n",
    "\n",
    "    return gzdf\n"
   ]
  },
  {
   "cell_type": "code",
   "execution_count": 30,
   "metadata": {},
   "outputs": [
    {
     "name": "stdout",
     "output_type": "stream",
     "text": [
      "raw data count: 77057\n",
      "after cleaning invalid: 68422\n",
      "after cleaning negative: 68415\n"
     ]
    },
    {
     "data": {
      "text/html": [
       "<div>\n",
       "<style scoped>\n",
       "    .dataframe tbody tr th:only-of-type {\n",
       "        vertical-align: middle;\n",
       "    }\n",
       "\n",
       "    .dataframe tbody tr th {\n",
       "        vertical-align: top;\n",
       "    }\n",
       "\n",
       "    .dataframe thead th {\n",
       "        text-align: right;\n",
       "    }\n",
       "</style>\n",
       "<table border=\"1\" class=\"dataframe\">\n",
       "  <thead>\n",
       "    <tr style=\"text-align: right;\">\n",
       "      <th></th>\n",
       "      <th>number</th>\n",
       "      <th>timestamp</th>\n",
       "      <th>pupil_avg</th>\n",
       "    </tr>\n",
       "  </thead>\n",
       "  <tbody>\n",
       "    <tr>\n",
       "      <th>count</th>\n",
       "      <td>68415.000000</td>\n",
       "      <td>6.841500e+04</td>\n",
       "      <td>68415.000000</td>\n",
       "    </tr>\n",
       "    <tr>\n",
       "      <th>mean</th>\n",
       "      <td>38198.545904</td>\n",
       "      <td>7.615756e+05</td>\n",
       "      <td>3.508406</td>\n",
       "    </tr>\n",
       "    <tr>\n",
       "      <th>std</th>\n",
       "      <td>21920.857519</td>\n",
       "      <td>4.370466e+05</td>\n",
       "      <td>0.125032</td>\n",
       "    </tr>\n",
       "    <tr>\n",
       "      <th>min</th>\n",
       "      <td>8.000000</td>\n",
       "      <td>1.530000e+02</td>\n",
       "      <td>2.828000</td>\n",
       "    </tr>\n",
       "    <tr>\n",
       "      <th>25%</th>\n",
       "      <td>19498.500000</td>\n",
       "      <td>3.887440e+05</td>\n",
       "      <td>3.431000</td>\n",
       "    </tr>\n",
       "    <tr>\n",
       "      <th>50%</th>\n",
       "      <td>38028.000000</td>\n",
       "      <td>7.581750e+05</td>\n",
       "      <td>3.504500</td>\n",
       "    </tr>\n",
       "    <tr>\n",
       "      <th>75%</th>\n",
       "      <td>57281.500000</td>\n",
       "      <td>1.142042e+06</td>\n",
       "      <td>3.580000</td>\n",
       "    </tr>\n",
       "    <tr>\n",
       "      <th>max</th>\n",
       "      <td>77057.000000</td>\n",
       "      <td>1.536315e+06</td>\n",
       "      <td>5.897500</td>\n",
       "    </tr>\n",
       "  </tbody>\n",
       "</table>\n",
       "</div>"
      ],
      "text/plain": [
       "             number     timestamp     pupil_avg\n",
       "count  68415.000000  6.841500e+04  68415.000000\n",
       "mean   38198.545904  7.615756e+05      3.508406\n",
       "std    21920.857519  4.370466e+05      0.125032\n",
       "min        8.000000  1.530000e+02      2.828000\n",
       "25%    19498.500000  3.887440e+05      3.431000\n",
       "50%    38028.000000  7.581750e+05      3.504500\n",
       "75%    57281.500000  1.142042e+06      3.580000\n",
       "max    77057.000000  1.536315e+06      5.897500"
      ]
     },
     "execution_count": 30,
     "metadata": {},
     "output_type": "execute_result"
    }
   ],
   "source": [
    "# process pupil size data\n",
    "p1_treeGZD_df = pd.read_csv(dirPath+\"p1/p1.treeGZD.txt\", sep = \"\\t\", header=None)\n",
    "# p1_treeGZD_df.head()\n",
    "\n",
    "p1_treeGZD_df = prepGZD(p1_treeGZD_df)\n",
    "# p1_treeGZD_df.head()\n",
    "p1_treeGZD_df.describe()"
   ]
  },
  {
   "cell_type": "markdown",
   "metadata": {},
   "source": [
    "### Average Pupil Size\n",
    "Get average left&right pupil sizes from gaze data `p*/p**GZD.txt`"
   ]
  },
  {
   "cell_type": "code",
   "execution_count": 18,
   "metadata": {},
   "outputs": [],
   "source": [
    "# Function to get average pupil size from gaze data\n",
    "def getAvgPupil(gzdf):\n",
    "    return mean(gzdf['pupil_avg'])"
   ]
  },
  {
   "cell_type": "code",
   "execution_count": 19,
   "metadata": {},
   "outputs": [
    {
     "name": "stdout",
     "output_type": "stream",
     "text": [
      "Average pupil size:  3.508406073229555\n"
     ]
    }
   ],
   "source": [
    "AvgPupil = getAvgPupil(p1_treeGZD_df)\n",
    "print (\"Average pupil size: \", AvgPupil)"
   ]
  },
  {
   "cell_type": "markdown",
   "metadata": {},
   "source": [
    "### Baseline\n",
    "Get average pupil sizes from baseline gaze data `p*/p*GZD.txt`"
   ]
  },
  {
   "cell_type": "code",
   "execution_count": 20,
   "metadata": {},
   "outputs": [
    {
     "name": "stdout",
     "output_type": "stream",
     "text": [
      "raw data count: 515\n",
      "after cleaning invalid: 372\n",
      "after cleaning negative: 370\n"
     ]
    },
    {
     "data": {
      "text/html": [
       "<div>\n",
       "<style scoped>\n",
       "    .dataframe tbody tr th:only-of-type {\n",
       "        vertical-align: middle;\n",
       "    }\n",
       "\n",
       "    .dataframe tbody tr th {\n",
       "        vertical-align: top;\n",
       "    }\n",
       "\n",
       "    .dataframe thead th {\n",
       "        text-align: right;\n",
       "    }\n",
       "</style>\n",
       "<table border=\"1\" class=\"dataframe\">\n",
       "  <thead>\n",
       "    <tr style=\"text-align: right;\">\n",
       "      <th></th>\n",
       "      <th>number</th>\n",
       "      <th>timestamp</th>\n",
       "      <th>pupil_avg</th>\n",
       "    </tr>\n",
       "  </thead>\n",
       "  <tbody>\n",
       "    <tr>\n",
       "      <th>count</th>\n",
       "      <td>370.000000</td>\n",
       "      <td>370.000000</td>\n",
       "      <td>370.000000</td>\n",
       "    </tr>\n",
       "    <tr>\n",
       "      <th>mean</th>\n",
       "      <td>273.289189</td>\n",
       "      <td>5434.627027</td>\n",
       "      <td>3.573054</td>\n",
       "    </tr>\n",
       "    <tr>\n",
       "      <th>std</th>\n",
       "      <td>146.509377</td>\n",
       "      <td>2921.026517</td>\n",
       "      <td>0.143388</td>\n",
       "    </tr>\n",
       "    <tr>\n",
       "      <th>min</th>\n",
       "      <td>9.000000</td>\n",
       "      <td>165.000000</td>\n",
       "      <td>3.018500</td>\n",
       "    </tr>\n",
       "    <tr>\n",
       "      <th>25%</th>\n",
       "      <td>146.250000</td>\n",
       "      <td>2902.000000</td>\n",
       "      <td>3.512000</td>\n",
       "    </tr>\n",
       "    <tr>\n",
       "      <th>50%</th>\n",
       "      <td>278.000000</td>\n",
       "      <td>5528.500000</td>\n",
       "      <td>3.572750</td>\n",
       "    </tr>\n",
       "    <tr>\n",
       "      <th>75%</th>\n",
       "      <td>403.500000</td>\n",
       "      <td>8031.000000</td>\n",
       "      <td>3.655500</td>\n",
       "    </tr>\n",
       "    <tr>\n",
       "      <th>max</th>\n",
       "      <td>515.000000</td>\n",
       "      <td>10254.000000</td>\n",
       "      <td>3.889500</td>\n",
       "    </tr>\n",
       "  </tbody>\n",
       "</table>\n",
       "</div>"
      ],
      "text/plain": [
       "           number     timestamp   pupil_avg\n",
       "count  370.000000    370.000000  370.000000\n",
       "mean   273.289189   5434.627027    3.573054\n",
       "std    146.509377   2921.026517    0.143388\n",
       "min      9.000000    165.000000    3.018500\n",
       "25%    146.250000   2902.000000    3.512000\n",
       "50%    278.000000   5528.500000    3.572750\n",
       "75%    403.500000   8031.000000    3.655500\n",
       "max    515.000000  10254.000000    3.889500"
      ]
     },
     "execution_count": 20,
     "metadata": {},
     "output_type": "execute_result"
    }
   ],
   "source": [
    "# process baseline data\n",
    "p1_baseGZD_df = pd.read_csv(dirPath+\"p1/p1GZD.txt\", sep = \"\\t\", header=None)\n",
    "p1_baseGZD_df = prepGZD(p1_baseGZD_df)\n",
    "p1_baseGZD_df.describe()\n"
   ]
  },
  {
   "cell_type": "code",
   "execution_count": 21,
   "metadata": {},
   "outputs": [
    {
     "name": "stdout",
     "output_type": "stream",
     "text": [
      "Baseline pupil size:  3.573054054054054\n"
     ]
    }
   ],
   "source": [
    "Baseline = getAvgPupil(p1_baseGZD_df)\n",
    "print (\"Baseline pupil size: \", Baseline)"
   ]
  },
  {
   "cell_type": "markdown",
   "metadata": {},
   "source": [
    "### Pupil Dilation\n",
    "= Average pupil size - Baseline "
   ]
  },
  {
   "cell_type": "code",
   "execution_count": 22,
   "metadata": {},
   "outputs": [
    {
     "name": "stdout",
     "output_type": "stream",
     "text": [
      "PupilDilation:  -0.0646479808244993\n"
     ]
    }
   ],
   "source": [
    "PupilDilation = AvgPupil - Baseline\n",
    "print (\"PupilDilation: \", PupilDilation)"
   ]
  },
  {
   "cell_type": "markdown",
   "metadata": {},
   "source": [
    "## Process Data: 3 Event"
   ]
  },
  {
   "cell_type": "code",
   "execution_count": 23,
   "metadata": {},
   "outputs": [
    {
     "data": {
      "text/html": [
       "<div>\n",
       "<style scoped>\n",
       "    .dataframe tbody tr th:only-of-type {\n",
       "        vertical-align: middle;\n",
       "    }\n",
       "\n",
       "    .dataframe tbody tr th {\n",
       "        vertical-align: top;\n",
       "    }\n",
       "\n",
       "    .dataframe thead th {\n",
       "        text-align: right;\n",
       "    }\n",
       "</style>\n",
       "<table border=\"1\" class=\"dataframe\">\n",
       "  <thead>\n",
       "    <tr style=\"text-align: right;\">\n",
       "      <th></th>\n",
       "      <th>time</th>\n",
       "      <th>event</th>\n",
       "      <th>event_key</th>\n",
       "      <th>data1</th>\n",
       "      <th>data2</th>\n",
       "      <th>description</th>\n",
       "    </tr>\n",
       "  </thead>\n",
       "  <tbody>\n",
       "    <tr>\n",
       "      <th>0</th>\n",
       "      <td>1887</td>\n",
       "      <td>LMouseButton</td>\n",
       "      <td>1</td>\n",
       "      <td>1025</td>\n",
       "      <td>16</td>\n",
       "      <td>NaN</td>\n",
       "    </tr>\n",
       "    <tr>\n",
       "      <th>1</th>\n",
       "      <td>10299</td>\n",
       "      <td>LMouseButton</td>\n",
       "      <td>1</td>\n",
       "      <td>857</td>\n",
       "      <td>1007</td>\n",
       "      <td>NaN</td>\n",
       "    </tr>\n",
       "    <tr>\n",
       "      <th>2</th>\n",
       "      <td>12252</td>\n",
       "      <td>LMouseButton</td>\n",
       "      <td>1</td>\n",
       "      <td>1049</td>\n",
       "      <td>1011</td>\n",
       "      <td>NaN</td>\n",
       "    </tr>\n",
       "    <tr>\n",
       "      <th>3</th>\n",
       "      <td>38096</td>\n",
       "      <td>LMouseButton</td>\n",
       "      <td>1</td>\n",
       "      <td>45</td>\n",
       "      <td>549</td>\n",
       "      <td>NaN</td>\n",
       "    </tr>\n",
       "    <tr>\n",
       "      <th>4</th>\n",
       "      <td>41116</td>\n",
       "      <td>LMouseButton</td>\n",
       "      <td>1</td>\n",
       "      <td>685</td>\n",
       "      <td>527</td>\n",
       "      <td>NaN</td>\n",
       "    </tr>\n",
       "  </tbody>\n",
       "</table>\n",
       "</div>"
      ],
      "text/plain": [
       "    time         event  event_key  data1  data2 description\n",
       "0   1887  LMouseButton          1   1025     16         NaN\n",
       "1  10299  LMouseButton          1    857   1007         NaN\n",
       "2  12252  LMouseButton          1   1049   1011         NaN\n",
       "3  38096  LMouseButton          1     45    549         NaN\n",
       "4  41116  LMouseButton          1    685    527         NaN"
      ]
     },
     "execution_count": 23,
     "metadata": {},
     "output_type": "execute_result"
    }
   ],
   "source": [
    "# Function to pre-process event data dataframe\n",
    "def prepEVD(evdf):\n",
    "    evdf.rename(columns = {0:'time', \n",
    "                     1: 'event', \n",
    "                     2: 'event_key', \n",
    "                     3: 'data1', \n",
    "                     4: 'data2',\n",
    "                     5:'description'}, inplace = True)\n",
    "    return evdf\n",
    "\n",
    "#process event data\n",
    "p1_treeEVD_df = pd.read_csv(dirPath+\"p1/p1.treeEVD.txt\", sep = \"\\t\", usecols=range(6), header=None)\n",
    "p1_treeEVD_df = prepEVD(p1_treeEVD_df)\n",
    "p1_treeEVD_df.head()"
   ]
  },
  {
   "cell_type": "markdown",
   "metadata": {},
   "source": [
    "### Total Clicks\n",
    "Count 'LMouseButton' event from event data `p*/p**EVD.txt`"
   ]
  },
  {
   "cell_type": "code",
   "execution_count": 24,
   "metadata": {},
   "outputs": [
    {
     "name": "stdout",
     "output_type": "stream",
     "text": [
      "TotalClick:  606\n"
     ]
    }
   ],
   "source": [
    "# Function to count mouse click event (LMouseButton)\n",
    "def getTotalClick(evdf):\n",
    "    count = len(evdf.loc[(evdf['event'] == 'LMouseButton')])\n",
    "    return count\n",
    "\n",
    "TotalClick = getTotalClick(p1_treeEVD_df)\n",
    "print (\"TotalClick: \", TotalClick)"
   ]
  },
  {
   "cell_type": "markdown",
   "metadata": {},
   "source": [
    "## Work with groups of data\n",
    "\n",
    "Now, need to get overview of one participant.  \n",
    "And make it work for groups of participants."
   ]
  },
  {
   "cell_type": "code",
   "execution_count": null,
   "metadata": {},
   "outputs": [],
   "source": []
  }
 ],
 "metadata": {
  "kernelspec": {
   "display_name": "Python 3",
   "language": "python",
   "name": "python3"
  },
  "language_info": {
   "codemirror_mode": {
    "name": "ipython",
    "version": 3
   },
   "file_extension": ".py",
   "mimetype": "text/x-python",
   "name": "python",
   "nbconvert_exporter": "python",
   "pygments_lexer": "ipython3",
   "version": "3.7.3"
  }
 },
 "nbformat": 4,
 "nbformat_minor": 2
}
